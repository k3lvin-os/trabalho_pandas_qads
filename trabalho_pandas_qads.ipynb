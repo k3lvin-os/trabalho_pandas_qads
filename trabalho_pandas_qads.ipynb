{
  "nbformat": 4,
  "nbformat_minor": 0,
  "metadata": {
    "colab": {
      "name": "trabalho_pandas_qads.ipynb",
      "provenance": [],
      "toc_visible": true,
      "include_colab_link": true
    },
    "kernelspec": {
      "name": "python3",
      "display_name": "Python 3"
    },
    "language_info": {
      "name": "python"
    }
  },
  "cells": [
    {
      "cell_type": "markdown",
      "metadata": {
        "id": "view-in-github",
        "colab_type": "text"
      },
      "source": [
        "<a href=\"https://colab.research.google.com/github/kelvingamedev/trabalho_pandas_qads/blob/main/trabalho_pandas_qads.ipynb\" target=\"_parent\"><img src=\"https://colab.research.google.com/assets/colab-badge.svg\" alt=\"Open In Colab\"/></a>"
      ]
    },
    {
      "cell_type": "markdown",
      "metadata": {
        "id": "pF7h8QBle5cm"
      },
      "source": [
        "# Lista Pandas - Desempenho dos Alunos GDF\n",
        "\n",
        "O dataset analisado aqui descreve o desempenho dos alunos da rede pública do Distrito Federal. Nele encontramos as notas bimestrais de todas as matérias oferecidas a cada aluno do GDF, juntamente com informações básicas sobre a escola, o curso e a série do aluno. A fonte dos dados é o portal de dados abertos do GDF.\n",
        "\n",
        "Utilize o dataset para responder as questões abaixo. Coloque sua solução somente dentro do espaço delimitado para a resposta e não altere nenhum outro código disponibilizado. As bibliotecas para a resolução de todos os problemas já foram importadas na célula abaixo.\n",
        "\n",
        "Obs.: Caso alguma delas não esteja instalada no seu ambiente execute o processo de instalção através de !pip install <nome_da_biblioteca>\n",
        "\n"
      ]
    },
    {
      "cell_type": "code",
      "metadata": {
        "id": "5-BrkHKofAOb"
      },
      "source": [
        "import pandas as pd\n",
        "import matplotlib.pyplot as plt\n",
        "import numpy as np\n",
        "\n",
        "import requests as r\n",
        "from zipfile import ZipFile\n",
        "import io\n",
        "\n",
        "import warnings\n",
        "warnings.filterwarnings('ignore')"
      ],
      "execution_count": 3,
      "outputs": []
    },
    {
      "cell_type": "code",
      "metadata": {
        "id": "67KwEsYkfFkO"
      },
      "source": [
        "def get_data(rows=None,download=True) -> pd.core.frame.DataFrame:\n",
        "    \n",
        "    \"\"\" get_data(rows: int=None, download: bool=True) -> pandas.core.frame.DataFrame:\n",
        "        \n",
        "        - Retorna os dados para serem utilizados na resolução da lista. \n",
        "        - Utilize o parâmetro 'download' caso você já possua os dados na sua pasta de trabalho.\n",
        "        \n",
        "        \n",
        "        ** Parâmetros **\n",
        "        ________________\n",
        "        \n",
        "        rows : quantidade de linhas a serem lidas no dataset, padrão é None e representa todo o dataset.\n",
        "        download : define se a função executará o processo de download e extração dos dados, padrão True.\n",
        "        \n",
        "        ** Exemplos **\n",
        "        ________________\n",
        "        \n",
        "        >> df = get_data(rows=100)\n",
        "        >> df.shape\n",
        "        >> (100,23)\n",
        "        \n",
        "        \n",
        "        >> df = get_data(rows=578)\n",
        "        >> df.shape\n",
        "        >> (578,23)\n",
        "        \n",
        "    \"\"\"\n",
        "    \n",
        "    if download == True:\n",
        "            \n",
        "        file_zipped = r.get('http://dados.df.gov.br/dataset/b8436049-44e7-4224-95b4-224718a4b166/resource/3e654a9d-0647-4e39-930e-7cd07faec888/download/dados-abertos---desempenho-escolar20180515160111.zip')  \n",
        "        z = ZipFile(io.BytesIO(file_zipped.content))\n",
        "        z.extractall('.')\n",
        "    \n",
        "    return pd.read_csv('dados abertos - desempenho escolar_20180515_160111.csv',sep=';',encoding='latin-1',nrows=rows)"
      ],
      "execution_count": 4,
      "outputs": []
    },
    {
      "cell_type": "code",
      "metadata": {
        "id": "r-0hTqIlfFiI"
      },
      "source": [
        "df = get_data()"
      ],
      "execution_count": 5,
      "outputs": []
    },
    {
      "cell_type": "markdown",
      "metadata": {
        "id": "rC4_qyGef-wb"
      },
      "source": [
        "6. Considerando somente alunos do curso \"Ensino Médio\". Os alunos do turno diurno perfomam melhor que os alunos do turno noturno nas matérias de química, física e biologia. (Verdadeiro ou Falso, demonstre com dados).\n",
        "\n"
      ]
    },
    {
      "cell_type": "markdown",
      "metadata": {
        "id": "zYUQ0yJ3xlbn"
      },
      "source": [
        "1. Quantos alunos diferentes estão matriculados no curso \"Ensino Médio\"?"
      ]
    },
    {
      "cell_type": "code",
      "metadata": {
        "colab": {
          "base_uri": "https://localhost:8080/",
          "height": 148
        },
        "id": "OhFmg8savfMj",
        "outputId": "86f4058a-75bd-42ff-b3f5-cee8612ce9f6"
      },
      "source": [
        "df.head(1)"
      ],
      "execution_count": 216,
      "outputs": [
        {
          "output_type": "execute_result",
          "data": {
            "text/html": [
              "<div>\n",
              "<style scoped>\n",
              "    .dataframe tbody tr th:only-of-type {\n",
              "        vertical-align: middle;\n",
              "    }\n",
              "\n",
              "    .dataframe tbody tr th {\n",
              "        vertical-align: top;\n",
              "    }\n",
              "\n",
              "    .dataframe thead th {\n",
              "        text-align: right;\n",
              "    }\n",
              "</style>\n",
              "<table border=\"1\" class=\"dataframe\">\n",
              "  <thead>\n",
              "    <tr style=\"text-align: right;\">\n",
              "      <th></th>\n",
              "      <th>cod_coordenacao_regional</th>\n",
              "      <th>coordenacao_regional</th>\n",
              "      <th>cod_escola</th>\n",
              "      <th>escola</th>\n",
              "      <th>cod_curso</th>\n",
              "      <th>curso</th>\n",
              "      <th>cod_serie</th>\n",
              "      <th>serie</th>\n",
              "      <th>cod_turno</th>\n",
              "      <th>turno</th>\n",
              "      <th>cod_turma</th>\n",
              "      <th>turma</th>\n",
              "      <th>cod_aluno</th>\n",
              "      <th>bimestre</th>\n",
              "      <th>cod_disciplina</th>\n",
              "      <th>disciplina</th>\n",
              "      <th>nota_bimestral</th>\n",
              "      <th>aulas_bimestre</th>\n",
              "      <th>faltas_bimestre</th>\n",
              "      <th>faltas_justificadas_bimestre</th>\n",
              "      <th>aulas_globalizadas</th>\n",
              "      <th>faltas_globalizadas</th>\n",
              "      <th>faltas_justificadas_globalizadas</th>\n",
              "    </tr>\n",
              "  </thead>\n",
              "  <tbody>\n",
              "    <tr>\n",
              "      <th>0</th>\n",
              "      <td>3</td>\n",
              "      <td>Plano Piloto</td>\n",
              "      <td>1</td>\n",
              "      <td>CENTRO DE ENSINO FUNDAMENTAL POLIVALENTE</td>\n",
              "      <td>5</td>\n",
              "      <td>Ensino Fundamental de 9 Anos</td>\n",
              "      <td>8</td>\n",
              "      <td>6º Ano</td>\n",
              "      <td>5</td>\n",
              "      <td>Diurno</td>\n",
              "      <td>100329.0</td>\n",
              "      <td>6º ANO B</td>\n",
              "      <td>-8376490126953895597</td>\n",
              "      <td>1</td>\n",
              "      <td>22</td>\n",
              "      <td>Projeto Interdisciplinar I</td>\n",
              "      <td>9.0</td>\n",
              "      <td>10.0</td>\n",
              "      <td>0.0</td>\n",
              "      <td>0.0</td>\n",
              "      <td>NaN</td>\n",
              "      <td>NaN</td>\n",
              "      <td>NaN</td>\n",
              "    </tr>\n",
              "  </tbody>\n",
              "</table>\n",
              "</div>"
            ],
            "text/plain": [
              "   cod_coordenacao_regional  ... faltas_justificadas_globalizadas\n",
              "0                         3  ...                              NaN\n",
              "\n",
              "[1 rows x 23 columns]"
            ]
          },
          "metadata": {
            "tags": []
          },
          "execution_count": 216
        }
      ]
    },
    {
      "cell_type": "code",
      "metadata": {
        "colab": {
          "base_uri": "https://localhost:8080/"
        },
        "id": "YddrjtXeoQZ-",
        "outputId": "b458cef4-863a-4712-f00e-71a7614a5c33"
      },
      "source": [
        "df.isna().sum()[df.isna().sum() != 0]"
      ],
      "execution_count": 228,
      "outputs": [
        {
          "output_type": "execute_result",
          "data": {
            "text/plain": [
              "cod_turma                                896\n",
              "turma                                    896\n",
              "nota_bimestral                        788999\n",
              "aulas_bimestre                       3423972\n",
              "faltas_bimestre                      3423972\n",
              "faltas_justificadas_bimestre         4274032\n",
              "aulas_globalizadas                  11991797\n",
              "faltas_globalizadas                 11990519\n",
              "faltas_justificadas_globalizadas    11991797\n",
              "dtype: int64"
            ]
          },
          "metadata": {
            "tags": []
          },
          "execution_count": 228
        }
      ]
    },
    {
      "cell_type": "code",
      "metadata": {
        "colab": {
          "base_uri": "https://localhost:8080/"
        },
        "id": "z7m_rhBLnu9S",
        "outputId": "74f6b582-2971-4e8c-aa6f-4d0516d4ac7c"
      },
      "source": [
        "df.cod_serie.unique()"
      ],
      "execution_count": 9,
      "outputs": [
        {
          "output_type": "execute_result",
          "data": {
            "text/plain": [
              "array([ 8,  9, 10, 11, 16, 17, 18, 19, 20, 21, 22, 23, 24, 25, 26, 27, 28,\n",
              "       29, 30, 31, 32, 33, 34, 35, 36, 42, 43, 44, 45, 46, 47, 48, 49, 50,\n",
              "       51, 53, 56, 57, 58, 59, 60, 83, 84])"
            ]
          },
          "metadata": {
            "tags": []
          },
          "execution_count": 9
        }
      ]
    },
    {
      "cell_type": "code",
      "metadata": {
        "colab": {
          "base_uri": "https://localhost:8080/",
          "height": 1000
        },
        "id": "PgHJCKJXnFs4",
        "outputId": "56d22a2e-6408-4d76-d2d9-0566bc7a7faa"
      },
      "source": [
        "df[[\"cod_serie\", \"serie\", \"escola\"]].groupby('cod_serie', group_keys=False).apply(lambda df: df.sample(1))"
      ],
      "execution_count": 10,
      "outputs": [
        {
          "output_type": "execute_result",
          "data": {
            "text/html": [
              "<div>\n",
              "<style scoped>\n",
              "    .dataframe tbody tr th:only-of-type {\n",
              "        vertical-align: middle;\n",
              "    }\n",
              "\n",
              "    .dataframe tbody tr th {\n",
              "        vertical-align: top;\n",
              "    }\n",
              "\n",
              "    .dataframe thead th {\n",
              "        text-align: right;\n",
              "    }\n",
              "</style>\n",
              "<table border=\"1\" class=\"dataframe\">\n",
              "  <thead>\n",
              "    <tr style=\"text-align: right;\">\n",
              "      <th></th>\n",
              "      <th>cod_serie</th>\n",
              "      <th>serie</th>\n",
              "      <th>escola</th>\n",
              "    </tr>\n",
              "  </thead>\n",
              "  <tbody>\n",
              "    <tr>\n",
              "      <th>989568</th>\n",
              "      <td>8</td>\n",
              "      <td>6º Ano</td>\n",
              "      <td>CENTRO DE ENSINO FUNDAMENTAL 427 DE SAMAMBAIA</td>\n",
              "    </tr>\n",
              "    <tr>\n",
              "      <th>3071279</th>\n",
              "      <td>9</td>\n",
              "      <td>7º Ano</td>\n",
              "      <td>Centro Educacional 308 do Recanto das Emas</td>\n",
              "    </tr>\n",
              "    <tr>\n",
              "      <th>3726070</th>\n",
              "      <td>10</td>\n",
              "      <td>8º Ano</td>\n",
              "      <td>CENTRO DE ENSINO FUNDAMENTAL GAN</td>\n",
              "    </tr>\n",
              "    <tr>\n",
              "      <th>6286036</th>\n",
              "      <td>11</td>\n",
              "      <td>9º Ano</td>\n",
              "      <td>CENTRO DE ENSINO FUNDAMENTAL 214 SUL</td>\n",
              "    </tr>\n",
              "    <tr>\n",
              "      <th>6850127</th>\n",
              "      <td>16</td>\n",
              "      <td>6º Ano</td>\n",
              "      <td>Centro de Ensino Fundamental 02 do Riacho Fund...</td>\n",
              "    </tr>\n",
              "    <tr>\n",
              "      <th>6852147</th>\n",
              "      <td>17</td>\n",
              "      <td>7º Ano</td>\n",
              "      <td>Centro de Ensino Fundamental 03 do Paranoá</td>\n",
              "    </tr>\n",
              "    <tr>\n",
              "      <th>6855762</th>\n",
              "      <td>18</td>\n",
              "      <td>8º Ano</td>\n",
              "      <td>Centro de Ensino Fundamental 03 do Paranoá</td>\n",
              "    </tr>\n",
              "    <tr>\n",
              "      <th>6863638</th>\n",
              "      <td>19</td>\n",
              "      <td>9º Ano</td>\n",
              "      <td>CENTRO EDUCACIONAL POMPÍLIO MARQUES DE SOUZA</td>\n",
              "    </tr>\n",
              "    <tr>\n",
              "      <th>8562279</th>\n",
              "      <td>20</td>\n",
              "      <td>1ª Série</td>\n",
              "      <td>CENTRO EDUCACIONAL 01 DE PLANALTINA</td>\n",
              "    </tr>\n",
              "    <tr>\n",
              "      <th>9014839</th>\n",
              "      <td>21</td>\n",
              "      <td>2ª Série</td>\n",
              "      <td>Centro Educacional 619 de Samambaia</td>\n",
              "    </tr>\n",
              "    <tr>\n",
              "      <th>11366786</th>\n",
              "      <td>22</td>\n",
              "      <td>3ª Série</td>\n",
              "      <td>CENTRO DE ENSINO MÉDIO 02 DE PLANALTINA</td>\n",
              "    </tr>\n",
              "    <tr>\n",
              "      <th>11557153</th>\n",
              "      <td>23</td>\n",
              "      <td>1ª Série</td>\n",
              "      <td>CENTRO EDUCACIONAL 15 DE CEILÂNDIA</td>\n",
              "    </tr>\n",
              "    <tr>\n",
              "      <th>11785905</th>\n",
              "      <td>24</td>\n",
              "      <td>2ª Série</td>\n",
              "      <td>Centro de Ensino Médio 02 do Gama</td>\n",
              "    </tr>\n",
              "    <tr>\n",
              "      <th>11863801</th>\n",
              "      <td>25</td>\n",
              "      <td>3ª Série</td>\n",
              "      <td>CENTRO DE ENSINO MÉDIO AVE BRANCA</td>\n",
              "    </tr>\n",
              "    <tr>\n",
              "      <th>11987993</th>\n",
              "      <td>26</td>\n",
              "      <td>1º Ano</td>\n",
              "      <td>ESCOLA CLASSE 203 DE SANTA MARIA</td>\n",
              "    </tr>\n",
              "    <tr>\n",
              "      <th>12097148</th>\n",
              "      <td>27</td>\n",
              "      <td>2º Ano</td>\n",
              "      <td>ESCOLA CLASSE 27 DE TAGUATINGA</td>\n",
              "    </tr>\n",
              "    <tr>\n",
              "      <th>12313491</th>\n",
              "      <td>28</td>\n",
              "      <td>3º Ano</td>\n",
              "      <td>Escola Classe 502 de Samambaia</td>\n",
              "    </tr>\n",
              "    <tr>\n",
              "      <th>12340528</th>\n",
              "      <td>29</td>\n",
              "      <td>4º Ano</td>\n",
              "      <td>ESCOLA CLASSE ASPALHA</td>\n",
              "    </tr>\n",
              "    <tr>\n",
              "      <th>12452529</th>\n",
              "      <td>30</td>\n",
              "      <td>5º Ano</td>\n",
              "      <td>ESCOLA CLASSE 100 DE SANTA MARIA</td>\n",
              "    </tr>\n",
              "    <tr>\n",
              "      <th>12556800</th>\n",
              "      <td>31</td>\n",
              "      <td>Berçário I</td>\n",
              "      <td>CENTRO DE EDUCAÇÃO INFANTIL 01 DE BRASÍLIA</td>\n",
              "    </tr>\n",
              "    <tr>\n",
              "      <th>12556947</th>\n",
              "      <td>32</td>\n",
              "      <td>Berçário II</td>\n",
              "      <td>CENTRO DE EDUCAÇÃO INFANTIL 01 DE BRASÍLIA</td>\n",
              "    </tr>\n",
              "    <tr>\n",
              "      <th>12557361</th>\n",
              "      <td>33</td>\n",
              "      <td>Maternal I</td>\n",
              "      <td>Caic Carlos Castello Branco</td>\n",
              "    </tr>\n",
              "    <tr>\n",
              "      <th>12558374</th>\n",
              "      <td>34</td>\n",
              "      <td>Maternal II</td>\n",
              "      <td>CAIC ALBERT SABIN</td>\n",
              "    </tr>\n",
              "    <tr>\n",
              "      <th>12586473</th>\n",
              "      <td>35</td>\n",
              "      <td>1º Período</td>\n",
              "      <td>Escola Classe 31 de Ceilândia</td>\n",
              "    </tr>\n",
              "    <tr>\n",
              "      <th>12667165</th>\n",
              "      <td>36</td>\n",
              "      <td>2º Período</td>\n",
              "      <td>ESCOLA CLASSE 22 DE CEILÂNDIA</td>\n",
              "    </tr>\n",
              "    <tr>\n",
              "      <th>12730592</th>\n",
              "      <td>42</td>\n",
              "      <td>1º Período  Especial</td>\n",
              "      <td>Centro de Educação Infantil 01 do Gama</td>\n",
              "    </tr>\n",
              "    <tr>\n",
              "      <th>12730770</th>\n",
              "      <td>43</td>\n",
              "      <td>2º Período Especial</td>\n",
              "      <td>CENTRO DE EDUCAÇÃO INFANTIL 04 DE TAGUATINGA</td>\n",
              "    </tr>\n",
              "    <tr>\n",
              "      <th>12732897</th>\n",
              "      <td>44</td>\n",
              "      <td>1º Ano especial</td>\n",
              "      <td>ESCOLA CLASSE 54 DE TAGUATINGA</td>\n",
              "    </tr>\n",
              "    <tr>\n",
              "      <th>12735267</th>\n",
              "      <td>45</td>\n",
              "      <td>2º Ano Especial</td>\n",
              "      <td>Caic Assis Chateaubriand</td>\n",
              "    </tr>\n",
              "    <tr>\n",
              "      <th>12735767</th>\n",
              "      <td>46</td>\n",
              "      <td>3º Ano especial</td>\n",
              "      <td>ESCOLA CLASSE 15 DO GAMA</td>\n",
              "    </tr>\n",
              "    <tr>\n",
              "      <th>12735913</th>\n",
              "      <td>47</td>\n",
              "      <td>4º Ano especial</td>\n",
              "      <td>CAIC PROFESSOR WALTER JOSÉ DE MOURA</td>\n",
              "    </tr>\n",
              "    <tr>\n",
              "      <th>12735979</th>\n",
              "      <td>48</td>\n",
              "      <td>5º Ano especial</td>\n",
              "      <td>CENTRO DE ENSINO FUNDAMENTAL GAN</td>\n",
              "    </tr>\n",
              "    <tr>\n",
              "      <th>12736391</th>\n",
              "      <td>49</td>\n",
              "      <td>6º Ano especial</td>\n",
              "      <td>Centro de Ensino Fundamental 04 do Gama</td>\n",
              "    </tr>\n",
              "    <tr>\n",
              "      <th>12737031</th>\n",
              "      <td>50</td>\n",
              "      <td>7º Ano especial</td>\n",
              "      <td>CENTRO EDUCACIONAL 07 DE CEILÂNDIA</td>\n",
              "    </tr>\n",
              "    <tr>\n",
              "      <th>12737169</th>\n",
              "      <td>51</td>\n",
              "      <td>8º Ano especial</td>\n",
              "      <td>CENTRO EDUCACIONAL 03 DE SOBRADINHO</td>\n",
              "    </tr>\n",
              "    <tr>\n",
              "      <th>12737180</th>\n",
              "      <td>53</td>\n",
              "      <td>1ª Série EM Especial</td>\n",
              "      <td>CENTRO DE ENSINO MÉDIO 01 DE SÃO SEBASTIÃO</td>\n",
              "    </tr>\n",
              "    <tr>\n",
              "      <th>12737230</th>\n",
              "      <td>56</td>\n",
              "      <td>2º Ciclo - Bloco 1</td>\n",
              "      <td>CENTRO EDUCACIONAL SÃO BARTOLOMEU</td>\n",
              "    </tr>\n",
              "    <tr>\n",
              "      <th>12737296</th>\n",
              "      <td>57</td>\n",
              "      <td>2º Ciclo - Bloco 2</td>\n",
              "      <td>CENTRO EDUCACIONAL 104 DO RECANTO DAS EMAS</td>\n",
              "    </tr>\n",
              "    <tr>\n",
              "      <th>12738521</th>\n",
              "      <td>58</td>\n",
              "      <td>3º Ciclo - Bloco 1</td>\n",
              "      <td>CENTRO EDUCACIONAL 104 DO RECANTO DAS EMAS</td>\n",
              "    </tr>\n",
              "    <tr>\n",
              "      <th>12755261</th>\n",
              "      <td>59</td>\n",
              "      <td>3º Ciclo - Bloco 2</td>\n",
              "      <td>CENTRO EDUCACIONAL 104 DO RECANTO DAS EMAS</td>\n",
              "    </tr>\n",
              "    <tr>\n",
              "      <th>12765947</th>\n",
              "      <td>60</td>\n",
              "      <td>Bloco Ensino Médio - 1ª série</td>\n",
              "      <td>CENTRO EDUCACIONAL 104 DO RECANTO DAS EMAS</td>\n",
              "    </tr>\n",
              "    <tr>\n",
              "      <th>12777575</th>\n",
              "      <td>83</td>\n",
              "      <td>Bloco Ensino Médio - 2ª série</td>\n",
              "      <td>CENTRO EDUCACIONAL 104 DO RECANTO DAS EMAS</td>\n",
              "    </tr>\n",
              "    <tr>\n",
              "      <th>12778266</th>\n",
              "      <td>84</td>\n",
              "      <td>Bloco Ensino Médio - 3ª série</td>\n",
              "      <td>CENTRO EDUCACIONAL 104 DO RECANTO DAS EMAS</td>\n",
              "    </tr>\n",
              "  </tbody>\n",
              "</table>\n",
              "</div>"
            ],
            "text/plain": [
              "          cod_serie  ...                                             escola\n",
              "989568            8  ...      CENTRO DE ENSINO FUNDAMENTAL 427 DE SAMAMBAIA\n",
              "3071279           9  ...         Centro Educacional 308 do Recanto das Emas\n",
              "3726070          10  ...                   CENTRO DE ENSINO FUNDAMENTAL GAN\n",
              "6286036          11  ...               CENTRO DE ENSINO FUNDAMENTAL 214 SUL\n",
              "6850127          16  ...  Centro de Ensino Fundamental 02 do Riacho Fund...\n",
              "6852147          17  ...         Centro de Ensino Fundamental 03 do Paranoá\n",
              "6855762          18  ...         Centro de Ensino Fundamental 03 do Paranoá\n",
              "6863638          19  ...       CENTRO EDUCACIONAL POMPÍLIO MARQUES DE SOUZA\n",
              "8562279          20  ...                CENTRO EDUCACIONAL 01 DE PLANALTINA\n",
              "9014839          21  ...                Centro Educacional 619 de Samambaia\n",
              "11366786         22  ...            CENTRO DE ENSINO MÉDIO 02 DE PLANALTINA\n",
              "11557153         23  ...                 CENTRO EDUCACIONAL 15 DE CEILÂNDIA\n",
              "11785905         24  ...                  Centro de Ensino Médio 02 do Gama\n",
              "11863801         25  ...                  CENTRO DE ENSINO MÉDIO AVE BRANCA\n",
              "11987993         26  ...                   ESCOLA CLASSE 203 DE SANTA MARIA\n",
              "12097148         27  ...                     ESCOLA CLASSE 27 DE TAGUATINGA\n",
              "12313491         28  ...                     Escola Classe 502 de Samambaia\n",
              "12340528         29  ...                              ESCOLA CLASSE ASPALHA\n",
              "12452529         30  ...                   ESCOLA CLASSE 100 DE SANTA MARIA\n",
              "12556800         31  ...         CENTRO DE EDUCAÇÃO INFANTIL 01 DE BRASÍLIA\n",
              "12556947         32  ...         CENTRO DE EDUCAÇÃO INFANTIL 01 DE BRASÍLIA\n",
              "12557361         33  ...                        Caic Carlos Castello Branco\n",
              "12558374         34  ...                                  CAIC ALBERT SABIN\n",
              "12586473         35  ...                      Escola Classe 31 de Ceilândia\n",
              "12667165         36  ...                      ESCOLA CLASSE 22 DE CEILÂNDIA\n",
              "12730592         42  ...             Centro de Educação Infantil 01 do Gama\n",
              "12730770         43  ...       CENTRO DE EDUCAÇÃO INFANTIL 04 DE TAGUATINGA\n",
              "12732897         44  ...                     ESCOLA CLASSE 54 DE TAGUATINGA\n",
              "12735267         45  ...                           Caic Assis Chateaubriand\n",
              "12735767         46  ...                           ESCOLA CLASSE 15 DO GAMA\n",
              "12735913         47  ...                CAIC PROFESSOR WALTER JOSÉ DE MOURA\n",
              "12735979         48  ...                   CENTRO DE ENSINO FUNDAMENTAL GAN\n",
              "12736391         49  ...            Centro de Ensino Fundamental 04 do Gama\n",
              "12737031         50  ...                 CENTRO EDUCACIONAL 07 DE CEILÂNDIA\n",
              "12737169         51  ...                CENTRO EDUCACIONAL 03 DE SOBRADINHO\n",
              "12737180         53  ...         CENTRO DE ENSINO MÉDIO 01 DE SÃO SEBASTIÃO\n",
              "12737230         56  ...                  CENTRO EDUCACIONAL SÃO BARTOLOMEU\n",
              "12737296         57  ...         CENTRO EDUCACIONAL 104 DO RECANTO DAS EMAS\n",
              "12738521         58  ...         CENTRO EDUCACIONAL 104 DO RECANTO DAS EMAS\n",
              "12755261         59  ...         CENTRO EDUCACIONAL 104 DO RECANTO DAS EMAS\n",
              "12765947         60  ...         CENTRO EDUCACIONAL 104 DO RECANTO DAS EMAS\n",
              "12777575         83  ...         CENTRO EDUCACIONAL 104 DO RECANTO DAS EMAS\n",
              "12778266         84  ...         CENTRO EDUCACIONAL 104 DO RECANTO DAS EMAS\n",
              "\n",
              "[43 rows x 3 columns]"
            ]
          },
          "metadata": {
            "tags": []
          },
          "execution_count": 10
        }
      ]
    },
    {
      "cell_type": "code",
      "metadata": {
        "id": "1btsUXj_sJQc"
      },
      "source": [
        "df_ensino_medio = df[df.cod_serie.isin([20, 21, 22, 23, 24, 25, 53, 58, 59, 60, 83, 84])]"
      ],
      "execution_count": 11,
      "outputs": []
    },
    {
      "cell_type": "code",
      "metadata": {
        "colab": {
          "base_uri": "https://localhost:8080/",
          "height": 35
        },
        "id": "sdH_VysxiJO8",
        "outputId": "e933247e-3511-4950-d7a4-f72128900f7f"
      },
      "source": [
        "f\"Alunos diferentes matriculados no ensino médio: {len(df_ensino_medio.cod_aluno.value_counts())}\""
      ],
      "execution_count": 12,
      "outputs": [
        {
          "output_type": "execute_result",
          "data": {
            "application/vnd.google.colaboratory.intrinsic+json": {
              "type": "string"
            },
            "text/plain": [
              "'Alunos diferentes matriculados no ensino médio: 82536'"
            ]
          },
          "metadata": {
            "tags": []
          },
          "execution_count": 12
        }
      ]
    },
    {
      "cell_type": "markdown",
      "metadata": {
        "id": "4jcdtKXsinQM"
      },
      "source": [
        "2. Levando em consideração somente os alunos do curso \"Ensino Médio\". Descreva a porcentagem de alunos que foram aprovados e reprovados (aluno aprovado é aquele que tirou 5 ou mais como nota final em todas as matérias cursadas) por série."
      ]
    },
    {
      "cell_type": "code",
      "metadata": {
        "colab": {
          "base_uri": "https://localhost:8080/"
        },
        "id": "-j3iRCeMzzia",
        "outputId": "dde46392-5352-4631-8cb6-fd4286151ad7"
      },
      "source": [
        "df_ensino_medio.bimestre.unique()"
      ],
      "execution_count": 13,
      "outputs": [
        {
          "output_type": "execute_result",
          "data": {
            "text/plain": [
              "array(['1', '2', '3', '4', 'resultado final'], dtype=object)"
            ]
          },
          "metadata": {
            "tags": []
          },
          "execution_count": 13
        }
      ]
    },
    {
      "cell_type": "code",
      "metadata": {
        "id": "t4tmO1v5vHWa"
      },
      "source": [
        "def notas_acima(df, parametro):\n",
        "  return all(df[df.bimestre == \"resultado final\"].nota_bimestral >= parametro)"
      ],
      "execution_count": 213,
      "outputs": []
    },
    {
      "cell_type": "code",
      "metadata": {
        "id": "eTwXxH7Wyb8C"
      },
      "source": [
        "aprovados_ensino_medio = df_ensino_medio.groupby(\"cod_aluno\", group_keys = False).apply(lambda x: notas_acima(x, 5.0))"
      ],
      "execution_count": 214,
      "outputs": []
    },
    {
      "cell_type": "code",
      "metadata": {
        "id": "fV9HmLiYFRCB"
      },
      "source": [
        "df_ensino_medio[\"aprovado\"] = df_ensino_medio.cod_aluno.map(lambda x: aprovados_ensino_medio[x])"
      ],
      "execution_count": 18,
      "outputs": []
    },
    {
      "cell_type": "code",
      "metadata": {
        "id": "xaHF2VIOHZCv"
      },
      "source": [
        "def percentual(df, regras):\n",
        "  n = len(df)\n",
        "  n_aprovado = sum(df[regras[0]])\n",
        "  percentual_aprovado = (n_aprovado / n) * 100\n",
        "  percentual_desaprovado = (abs(100.0 - percentual_aprovado)) \n",
        "  return f\"{regras[0].capitalize()}: {round(percentual_aprovado, 2)}% | {regras[1].capitalize()} {round(percentual_desaprovado, 2)}%\""
      ],
      "execution_count": 211,
      "outputs": []
    },
    {
      "cell_type": "code",
      "metadata": {
        "colab": {
          "base_uri": "https://localhost:8080/"
        },
        "id": "yQN5yy0lGS8m",
        "outputId": "9482788b-ef28-4d0f-c347-93c115da3565"
      },
      "source": [
        "df_ensino_medio.drop_duplicates('cod_aluno').groupby(\"serie\", group_keys = False).apply(lambda x: percentual(x, [\"aprovado\", \"reprovado\"]))"
      ],
      "execution_count": 212,
      "outputs": [
        {
          "output_type": "execute_result",
          "data": {
            "text/plain": [
              "serie\n",
              "1ª Série                         Aprovado: 42.94% | Reprovado 57.06%\n",
              "1ª Série EM Especial               Aprovado: 100.0% | Reprovado 0.0%\n",
              "2ª Série                         Aprovado: 40.21% | Reprovado 59.79%\n",
              "3ª Série                         Aprovado: 48.27% | Reprovado 51.73%\n",
              "3º Ciclo - Bloco 1               Aprovado: 28.71% | Reprovado 71.29%\n",
              "3º Ciclo - Bloco 2               Aprovado: 48.41% | Reprovado 51.59%\n",
              "Bloco Ensino Médio - 1ª série    Aprovado: 66.67% | Reprovado 33.33%\n",
              "Bloco Ensino Médio - 2ª série    Aprovado: 81.67% | Reprovado 18.33%\n",
              "Bloco Ensino Médio - 3ª série    Aprovado: 73.33% | Reprovado 26.67%\n",
              "dtype: object"
            ]
          },
          "metadata": {
            "tags": []
          },
          "execution_count": 212
        }
      ]
    },
    {
      "cell_type": "markdown",
      "metadata": {
        "id": "bmFdekov8_CK"
      },
      "source": [
        "3. As coordenações regionais são instituições que cuidam das escolas públicas de uma determinada região. Busque dados populacionais de cada coordenação regional e demonstre se há alguma correlação entra a quantidade de alunos de cada coordenação e a população daquela cidade satélite."
      ]
    },
    {
      "cell_type": "code",
      "metadata": {
        "id": "aL7k4oWH8_jZ"
      },
      "source": [
        "populacao_por_regiao_df = pd.read_html ('https://pt.wikipedia.org/wiki/Lista_de_regi%C3%B5es_administrativas_do_Distrito_Federal_por_popula%C3%A7%C3%A3o', index_col = 1)[0].drop(\"Posição\",axis=1)"
      ],
      "execution_count": 147,
      "outputs": []
    },
    {
      "cell_type": "code",
      "metadata": {
        "id": "6mrvPGBIrCAe"
      },
      "source": [
        "def remove_cre(string):\n",
        "  return string.replace(\"CRE - \", \"\")"
      ],
      "execution_count": 232,
      "outputs": []
    },
    {
      "cell_type": "code",
      "metadata": {
        "id": "AJg7JgYg-cGu"
      },
      "source": [
        "df.coordenacao_regional = df.coordenacao_regional.apply(remove_cre)\n",
        "df_ensino_medio.coordenacao_regional = df_ensino_medio.coordenacao_regional.apply(remove_cre)"
      ],
      "execution_count": 235,
      "outputs": []
    },
    {
      "cell_type": "code",
      "metadata": {
        "id": "LKn__S9qDwDK"
      },
      "source": [
        "quantidade_de_alunos_cre = df[[\"coordenacao_regional\", \"cod_aluno\"]].groupby(\"coordenacao_regional\", group_keys=alse)[\"cod_aluno\"].nunique()F"
      ],
      "execution_count": 40,
      "outputs": []
    },
    {
      "cell_type": "code",
      "metadata": {
        "id": "IgvsbWO1BE8S"
      },
      "source": [
        "regioes_df = quantidade_de_alunos_cre.to_frame().rename(columns = {\"cod_aluno\": \"quantidade_de_alunos\"}).reset_index()"
      ],
      "execution_count": 157,
      "outputs": []
    },
    {
      "cell_type": "code",
      "metadata": {
        "id": "vXjt2ap3ahWn"
      },
      "source": [
        "def get_int(a_string):\n",
        "  return (int) (\"\".join([word for word in a_string.split() if word.isdigit()]))"
      ],
      "execution_count": 168,
      "outputs": []
    },
    {
      "cell_type": "code",
      "metadata": {
        "id": "6X1lAsu6zcT3"
      },
      "source": [
        "regioes_df[\"populacao\"] = regioes_df.coordenacao_regional.apply(lambda x: get_int(populacao_por_regiao_df.loc[x, \"População\"]))"
      ],
      "execution_count": 170,
      "outputs": []
    },
    {
      "cell_type": "code",
      "metadata": {
        "colab": {
          "base_uri": "https://localhost:8080/",
          "height": 110
        },
        "id": "wKSj9vsvVNC9",
        "outputId": "2ff5834f-0ec1-47cc-8728-e9dc9b54729e"
      },
      "source": [
        "regioes_df.corr()"
      ],
      "execution_count": 182,
      "outputs": [
        {
          "output_type": "execute_result",
          "data": {
            "text/html": [
              "<div>\n",
              "<style scoped>\n",
              "    .dataframe tbody tr th:only-of-type {\n",
              "        vertical-align: middle;\n",
              "    }\n",
              "\n",
              "    .dataframe tbody tr th {\n",
              "        vertical-align: top;\n",
              "    }\n",
              "\n",
              "    .dataframe thead th {\n",
              "        text-align: right;\n",
              "    }\n",
              "</style>\n",
              "<table border=\"1\" class=\"dataframe\">\n",
              "  <thead>\n",
              "    <tr style=\"text-align: right;\">\n",
              "      <th></th>\n",
              "      <th>quantidade_de_alunos</th>\n",
              "      <th>populacao</th>\n",
              "    </tr>\n",
              "  </thead>\n",
              "  <tbody>\n",
              "    <tr>\n",
              "      <th>quantidade_de_alunos</th>\n",
              "      <td>1.00000</td>\n",
              "      <td>0.93772</td>\n",
              "    </tr>\n",
              "    <tr>\n",
              "      <th>populacao</th>\n",
              "      <td>0.93772</td>\n",
              "      <td>1.00000</td>\n",
              "    </tr>\n",
              "  </tbody>\n",
              "</table>\n",
              "</div>"
            ],
            "text/plain": [
              "                      quantidade_de_alunos  populacao\n",
              "quantidade_de_alunos               1.00000    0.93772\n",
              "populacao                          0.93772    1.00000"
            ]
          },
          "metadata": {
            "tags": []
          },
          "execution_count": 182
        }
      ]
    },
    {
      "cell_type": "markdown",
      "metadata": {
        "id": "Nk-7Fz0SeeHQ"
      },
      "source": [
        "0.93 é uma correlação muito forte, sendo assim, quanto maior o número de alunos de uma determinada região, maior é a população daquela região. Isso, entretanto, não é suficiente para dizer uma coisa causa a outra"
      ]
    },
    {
      "cell_type": "markdown",
      "metadata": {
        "id": "NoRo7LAagvjl"
      },
      "source": [
        "4. Levando em consideração somente os alunos do curso \"Ensino Médio\". Demonstre a porcentagem de alunos que obtiveram notas finais maiores ou iguais a 8 em Química, Física e Biologia, por coordenação Regional."
      ]
    },
    {
      "cell_type": "code",
      "metadata": {
        "id": "l4R2sX8Bhj6A"
      },
      "source": [
        "criterio1 = df_ensino_medio[df.disciplina.str.contains(\"Química|Física|Biologia\")].groupby(\"cod_aluno\", group_keys = False).apply(lambda x: notas_acima(x, 8.0))"
      ],
      "execution_count": 192,
      "outputs": []
    },
    {
      "cell_type": "code",
      "metadata": {
        "colab": {
          "base_uri": "https://localhost:8080/"
        },
        "id": "X8MA7GCHkU7L",
        "outputId": "00dff1db-f682-4709-c644-41155a82c288"
      },
      "source": [
        "len(criterio1) != df_ensino_medio.cod_aluno.nunique()"
      ],
      "execution_count": 202,
      "outputs": [
        {
          "output_type": "execute_result",
          "data": {
            "text/plain": [
              "True"
            ]
          },
          "metadata": {
            "tags": []
          },
          "execution_count": 202
        }
      ]
    },
    {
      "cell_type": "code",
      "metadata": {
        "id": "8lqqamYXjlb5"
      },
      "source": [
        "df_ensino_medio[\"criterio1\"] = df_ensino_medio.cod_aluno.map(lambda x: criterio1[x] if criterio1.get(x) != None else False)"
      ],
      "execution_count": 203,
      "outputs": []
    },
    {
      "cell_type": "code",
      "metadata": {
        "colab": {
          "base_uri": "https://localhost:8080/"
        },
        "id": "Jv2WSkf2e4jv",
        "outputId": "583364d5-f437-41d0-8a95-4b7579914574"
      },
      "source": [
        "df_ensino_medio[\"criterio1\"].value_counts()"
      ],
      "execution_count": 205,
      "outputs": [
        {
          "output_type": "execute_result",
          "data": {
            "text/plain": [
              "False    4430703\n",
              "True      695430\n",
              "Name: criterio1, dtype: int64"
            ]
          },
          "metadata": {
            "tags": []
          },
          "execution_count": 205
        }
      ]
    },
    {
      "cell_type": "code",
      "metadata": {
        "colab": {
          "base_uri": "https://localhost:8080/"
        },
        "id": "bNUjw4YKecVs",
        "outputId": "296282bb-e635-49f2-d5d1-9291bd89fd58"
      },
      "source": [
        "df_ensino_medio.drop_duplicates('cod_aluno').groupby(\"coordenacao_regional\", group_keys = False).apply(lambda x: percentual(x, [\"criterio1\", \"!criterio1\"]))"
      ],
      "execution_count": 236,
      "outputs": [
        {
          "output_type": "execute_result",
          "data": {
            "text/plain": [
              "coordenacao_regional\n",
              "Brazlândia            Criterio1: 14.65% | !criterio1 85.35%\n",
              "Ceilândia             Criterio1: 18.08% | !criterio1 81.92%\n",
              "Gama                  Criterio1: 14.14% | !criterio1 85.86%\n",
              "Guará                 Criterio1: 21.89% | !criterio1 78.11%\n",
              "Núcleo Bandeirante    Criterio1: 21.03% | !criterio1 78.97%\n",
              "Paranoá               Criterio1: 21.08% | !criterio1 78.92%\n",
              "Planaltina            Criterio1: 13.72% | !criterio1 86.28%\n",
              "Plano Piloto          Criterio1: 13.52% | !criterio1 86.48%\n",
              "Recanto das Emas      Criterio1: 20.22% | !criterio1 79.78%\n",
              "Samambaia             Criterio1: 20.64% | !criterio1 79.36%\n",
              "Santa Maria           Criterio1: 18.59% | !criterio1 81.41%\n",
              "Sobradinho              Criterio1: 16.5% | !criterio1 83.5%\n",
              "São Sebastião         Criterio1: 19.62% | !criterio1 80.38%\n",
              "Taguatinga            Criterio1: 15.64% | !criterio1 84.36%\n",
              "dtype: object"
            ]
          },
          "metadata": {
            "tags": []
          },
          "execution_count": 236
        }
      ]
    },
    {
      "cell_type": "markdown",
      "metadata": {
        "id": "jQ9F2WUJsJKE"
      },
      "source": [
        "5. Qual coordenação regional tem a maior quantidade de alunos matriculados no turno diurno do curso \"Ensino Médio\".Considere somente as coordenações regionais que possuem um número acima da média de aprovados."
      ]
    },
    {
      "cell_type": "code",
      "metadata": {
        "id": "eiqsbLjUsJka",
        "outputId": "f8c67548-5984-4ae7-b682-5b84b37881e2",
        "colab": {
          "base_uri": "https://localhost:8080/"
        }
      },
      "source": [
        "media_aprovados = round(df_ensino_medio.drop_duplicates('cod_aluno').groupby(\"coordenacao_regional\").aprovado.sum().mean(), 2)\n",
        "media_aprovados"
      ],
      "execution_count": 255,
      "outputs": [
        {
          "output_type": "execute_result",
          "data": {
            "text/plain": [
              "2565.07"
            ]
          },
          "metadata": {
            "tags": []
          },
          "execution_count": 255
        }
      ]
    },
    {
      "cell_type": "code",
      "metadata": {
        "id": "UAHdNhyasIF-"
      },
      "source": [
        "cres_acima_media = df_ensino_medio.drop_duplicates('cod_aluno').groupby(\"coordenacao_regional\").aprovado.sum() > media_aprovados"
      ],
      "execution_count": 259,
      "outputs": []
    },
    {
      "cell_type": "code",
      "metadata": {
        "id": "utXj8xXm0Dn6",
        "outputId": "a7cdc697-9793-40e6-8813-307b92bf8579",
        "colab": {
          "base_uri": "https://localhost:8080/"
        }
      },
      "source": [
        "df_ensino_medio.drop_duplicates('cod_aluno').groupby(\"coordenacao_regional\").aprovado.sum()[cres_acima_media].sort_values().tail(1)"
      ],
      "execution_count": 278,
      "outputs": [
        {
          "output_type": "execute_result",
          "data": {
            "text/plain": [
              "coordenacao_regional\n",
              "Ceilândia    5696\n",
              "Name: aprovado, dtype: int64"
            ]
          },
          "metadata": {
            "tags": []
          },
          "execution_count": 278
        }
      ]
    }
  ]
}