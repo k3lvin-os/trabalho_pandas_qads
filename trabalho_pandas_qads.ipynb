{
  "nbformat": 4,
  "nbformat_minor": 0,
  "metadata": {
    "colab": {
      "name": "trabalho_pandas_qads.ipynb",
      "provenance": [],
      "toc_visible": true,
      "include_colab_link": true
    },
    "kernelspec": {
      "name": "python3",
      "display_name": "Python 3"
    },
    "language_info": {
      "name": "python"
    }
  },
  "cells": [
    {
      "cell_type": "markdown",
      "metadata": {
        "id": "view-in-github",
        "colab_type": "text"
      },
      "source": [
        "<a href=\"https://colab.research.google.com/github/kelvingamedev/trabalho_pandas_qads/blob/main/trabalho_pandas_qads.ipynb\" target=\"_parent\"><img src=\"https://colab.research.google.com/assets/colab-badge.svg\" alt=\"Open In Colab\"/></a>"
      ]
    },
    {
      "cell_type": "markdown",
      "metadata": {
        "id": "pF7h8QBle5cm"
      },
      "source": [
        "# Lista Pandas - Desempenho dos Alunos GDF\n",
        "\n",
        "O dataset analisado aqui descreve o desempenho dos alunos da rede pública do Distrito Federal. Nele encontramos as notas bimestrais de todas as matérias oferecidas a cada aluno do GDF, juntamente com informações básicas sobre a escola, o curso e a série do aluno. A fonte dos dados é o portal de dados abertos do GDF.\n",
        "\n",
        "Utilize o dataset para responder as questões abaixo. Coloque sua solução somente dentro do espaço delimitado para a resposta e não altere nenhum outro código disponibilizado. As bibliotecas para a resolução de todos os problemas já foram importadas na célula abaixo.\n",
        "\n",
        "Obs.: Caso alguma delas não esteja instalada no seu ambiente execute o processo de instalção através de !pip install <nome_da_biblioteca>\n",
        "\n"
      ]
    },
    {
      "cell_type": "code",
      "metadata": {
        "id": "5-BrkHKofAOb"
      },
      "source": [
        "import pandas as pd\n",
        "import matplotlib.pyplot as plt\n",
        "import numpy as np\n",
        "\n",
        "import requests as r\n",
        "from zipfile import ZipFile\n",
        "import io\n",
        "\n",
        "import warnings\n",
        "warnings.filterwarnings('ignore')"
      ],
      "execution_count": 2,
      "outputs": []
    },
    {
      "cell_type": "code",
      "metadata": {
        "id": "67KwEsYkfFkO"
      },
      "source": [
        "def get_data(rows=None,download=True) -> pd.core.frame.DataFrame:\n",
        "    \n",
        "    \"\"\" get_data(rows: int=None, download: bool=True) -> pandas.core.frame.DataFrame:\n",
        "        \n",
        "        - Retorna os dados para serem utilizados na resolução da lista. \n",
        "        - Utilize o parâmetro 'download' caso você já possua os dados na sua pasta de trabalho.\n",
        "        \n",
        "        \n",
        "        ** Parâmetros **\n",
        "        ________________\n",
        "        \n",
        "        rows : quantidade de linhas a serem lidas no dataset, padrão é None e representa todo o dataset.\n",
        "        download : define se a função executará o processo de download e extração dos dados, padrão True.\n",
        "        \n",
        "        ** Exemplos **\n",
        "        ________________\n",
        "        \n",
        "        >> df = get_data(rows=100)\n",
        "        >> df.shape\n",
        "        >> (100,23)\n",
        "        \n",
        "        \n",
        "        >> df = get_data(rows=578)\n",
        "        >> df.shape\n",
        "        >> (578,23)\n",
        "        \n",
        "    \"\"\"\n",
        "    \n",
        "    if download == True:\n",
        "            \n",
        "        file_zipped = r.get('http://dados.df.gov.br/dataset/b8436049-44e7-4224-95b4-224718a4b166/resource/3e654a9d-0647-4e39-930e-7cd07faec888/download/dados-abertos---desempenho-escolar20180515160111.zip')  \n",
        "        z = ZipFile(io.BytesIO(file_zipped.content))\n",
        "        z.extractall('.')\n",
        "    \n",
        "    return pd.read_csv('dados abertos - desempenho escolar_20180515_160111.csv',sep=';',encoding='latin-1',nrows=rows)"
      ],
      "execution_count": 3,
      "outputs": []
    },
    {
      "cell_type": "code",
      "metadata": {
        "id": "r-0hTqIlfFiI"
      },
      "source": [
        "df = get_data()"
      ],
      "execution_count": 4,
      "outputs": []
    },
    {
      "cell_type": "markdown",
      "metadata": {
        "id": "rC4_qyGef-wb"
      },
      "source": [
        "3. As coordenações regionais são instituições que cuidam das escolas públicas de uma determinada região. Busque dados populacionais de cada coordenação regional e demonstre se há alguma correlação entra a quantidade de alunos de cada coordenação e a população daquela cidade satélite.\n",
        "\n",
        "4. Levando em consideração somente os alunos do curso \"Ensino Médio\". Demonstre a porcentagem de alunos que obtiveram notas finais maiores ou iguais a 8 em Química, Física e Biologia, por coordenação Regional.\n",
        "\n",
        "5. Qual coordenação regional tem a maior quantidade de alunos matriculados no turno diurno do curso \"Ensino Médio\".Considere somente as coordenações regionais que possuem um número acima da média de aprovados.\n",
        "\n",
        "6. Considerando somente alunos do curso \"Ensino Médio\". Os alunos do turno diurno perfomam melhor que os alunos do turno noturno nas matérias de química, física e biologia. (Verdadeiro ou Falso, demonstre com dados).\n",
        "\n"
      ]
    },
    {
      "cell_type": "markdown",
      "metadata": {
        "id": "zYUQ0yJ3xlbn"
      },
      "source": [
        "1. Quantos alunos diferentes estão matriculados no curso \"Ensino Médio\"?"
      ]
    },
    {
      "cell_type": "code",
      "metadata": {
        "colab": {
          "base_uri": "https://localhost:8080/",
          "height": 472
        },
        "id": "OhFmg8savfMj",
        "outputId": "01b71f6a-5f70-4acb-9190-e4e90fb8e983"
      },
      "source": [
        "df.head()"
      ],
      "execution_count": 30,
      "outputs": [
        {
          "output_type": "execute_result",
          "data": {
            "text/html": [
              "<div>\n",
              "<style scoped>\n",
              "    .dataframe tbody tr th:only-of-type {\n",
              "        vertical-align: middle;\n",
              "    }\n",
              "\n",
              "    .dataframe tbody tr th {\n",
              "        vertical-align: top;\n",
              "    }\n",
              "\n",
              "    .dataframe thead th {\n",
              "        text-align: right;\n",
              "    }\n",
              "</style>\n",
              "<table border=\"1\" class=\"dataframe\">\n",
              "  <thead>\n",
              "    <tr style=\"text-align: right;\">\n",
              "      <th></th>\n",
              "      <th>cod_coordenacao_regional</th>\n",
              "      <th>coordenacao_regional</th>\n",
              "      <th>cod_escola</th>\n",
              "      <th>escola</th>\n",
              "      <th>cod_curso</th>\n",
              "      <th>curso</th>\n",
              "      <th>cod_serie</th>\n",
              "      <th>serie</th>\n",
              "      <th>cod_turno</th>\n",
              "      <th>turno</th>\n",
              "      <th>cod_turma</th>\n",
              "      <th>turma</th>\n",
              "      <th>cod_aluno</th>\n",
              "      <th>bimestre</th>\n",
              "      <th>cod_disciplina</th>\n",
              "      <th>disciplina</th>\n",
              "      <th>nota_bimestral</th>\n",
              "      <th>aulas_bimestre</th>\n",
              "      <th>faltas_bimestre</th>\n",
              "      <th>faltas_justificadas_bimestre</th>\n",
              "      <th>aulas_globalizadas</th>\n",
              "      <th>faltas_globalizadas</th>\n",
              "      <th>faltas_justificadas_globalizadas</th>\n",
              "    </tr>\n",
              "  </thead>\n",
              "  <tbody>\n",
              "    <tr>\n",
              "      <th>0</th>\n",
              "      <td>3</td>\n",
              "      <td>CRE - Plano Piloto</td>\n",
              "      <td>1</td>\n",
              "      <td>CENTRO DE ENSINO FUNDAMENTAL POLIVALENTE</td>\n",
              "      <td>5</td>\n",
              "      <td>Ensino Fundamental de 9 Anos</td>\n",
              "      <td>8</td>\n",
              "      <td>6º Ano</td>\n",
              "      <td>5</td>\n",
              "      <td>Diurno</td>\n",
              "      <td>100329.0</td>\n",
              "      <td>6º ANO B</td>\n",
              "      <td>-8376490126953895597</td>\n",
              "      <td>1</td>\n",
              "      <td>22</td>\n",
              "      <td>Projeto Interdisciplinar I</td>\n",
              "      <td>9.0</td>\n",
              "      <td>10.0</td>\n",
              "      <td>0.0</td>\n",
              "      <td>0.0</td>\n",
              "      <td>NaN</td>\n",
              "      <td>NaN</td>\n",
              "      <td>NaN</td>\n",
              "    </tr>\n",
              "    <tr>\n",
              "      <th>1</th>\n",
              "      <td>3</td>\n",
              "      <td>CRE - Plano Piloto</td>\n",
              "      <td>1</td>\n",
              "      <td>CENTRO DE ENSINO FUNDAMENTAL POLIVALENTE</td>\n",
              "      <td>5</td>\n",
              "      <td>Ensino Fundamental de 9 Anos</td>\n",
              "      <td>8</td>\n",
              "      <td>6º Ano</td>\n",
              "      <td>5</td>\n",
              "      <td>Diurno</td>\n",
              "      <td>100329.0</td>\n",
              "      <td>6º ANO B</td>\n",
              "      <td>-8376490126953895597</td>\n",
              "      <td>2</td>\n",
              "      <td>22</td>\n",
              "      <td>Projeto Interdisciplinar I</td>\n",
              "      <td>8.3</td>\n",
              "      <td>10.0</td>\n",
              "      <td>0.0</td>\n",
              "      <td>0.0</td>\n",
              "      <td>NaN</td>\n",
              "      <td>NaN</td>\n",
              "      <td>NaN</td>\n",
              "    </tr>\n",
              "    <tr>\n",
              "      <th>2</th>\n",
              "      <td>3</td>\n",
              "      <td>CRE - Plano Piloto</td>\n",
              "      <td>1</td>\n",
              "      <td>CENTRO DE ENSINO FUNDAMENTAL POLIVALENTE</td>\n",
              "      <td>5</td>\n",
              "      <td>Ensino Fundamental de 9 Anos</td>\n",
              "      <td>8</td>\n",
              "      <td>6º Ano</td>\n",
              "      <td>5</td>\n",
              "      <td>Diurno</td>\n",
              "      <td>100329.0</td>\n",
              "      <td>6º ANO B</td>\n",
              "      <td>-8376490126953895597</td>\n",
              "      <td>3</td>\n",
              "      <td>22</td>\n",
              "      <td>Projeto Interdisciplinar I</td>\n",
              "      <td>6.5</td>\n",
              "      <td>10.0</td>\n",
              "      <td>0.0</td>\n",
              "      <td>0.0</td>\n",
              "      <td>NaN</td>\n",
              "      <td>NaN</td>\n",
              "      <td>NaN</td>\n",
              "    </tr>\n",
              "    <tr>\n",
              "      <th>3</th>\n",
              "      <td>3</td>\n",
              "      <td>CRE - Plano Piloto</td>\n",
              "      <td>1</td>\n",
              "      <td>CENTRO DE ENSINO FUNDAMENTAL POLIVALENTE</td>\n",
              "      <td>5</td>\n",
              "      <td>Ensino Fundamental de 9 Anos</td>\n",
              "      <td>8</td>\n",
              "      <td>6º Ano</td>\n",
              "      <td>5</td>\n",
              "      <td>Diurno</td>\n",
              "      <td>100329.0</td>\n",
              "      <td>6º ANO B</td>\n",
              "      <td>-8376490126953895597</td>\n",
              "      <td>4</td>\n",
              "      <td>22</td>\n",
              "      <td>Projeto Interdisciplinar I</td>\n",
              "      <td>9.5</td>\n",
              "      <td>9.0</td>\n",
              "      <td>0.0</td>\n",
              "      <td>0.0</td>\n",
              "      <td>NaN</td>\n",
              "      <td>NaN</td>\n",
              "      <td>NaN</td>\n",
              "    </tr>\n",
              "    <tr>\n",
              "      <th>4</th>\n",
              "      <td>3</td>\n",
              "      <td>CRE - Plano Piloto</td>\n",
              "      <td>1</td>\n",
              "      <td>CENTRO DE ENSINO FUNDAMENTAL POLIVALENTE</td>\n",
              "      <td>5</td>\n",
              "      <td>Ensino Fundamental de 9 Anos</td>\n",
              "      <td>8</td>\n",
              "      <td>6º Ano</td>\n",
              "      <td>5</td>\n",
              "      <td>Diurno</td>\n",
              "      <td>100329.0</td>\n",
              "      <td>6º ANO B</td>\n",
              "      <td>-8376490126953895597</td>\n",
              "      <td>resultado final</td>\n",
              "      <td>22</td>\n",
              "      <td>Projeto Interdisciplinar I</td>\n",
              "      <td>8.5</td>\n",
              "      <td>NaN</td>\n",
              "      <td>NaN</td>\n",
              "      <td>NaN</td>\n",
              "      <td>NaN</td>\n",
              "      <td>NaN</td>\n",
              "      <td>NaN</td>\n",
              "    </tr>\n",
              "  </tbody>\n",
              "</table>\n",
              "</div>"
            ],
            "text/plain": [
              "   cod_coordenacao_regional  ... faltas_justificadas_globalizadas\n",
              "0                         3  ...                              NaN\n",
              "1                         3  ...                              NaN\n",
              "2                         3  ...                              NaN\n",
              "3                         3  ...                              NaN\n",
              "4                         3  ...                              NaN\n",
              "\n",
              "[5 rows x 23 columns]"
            ]
          },
          "metadata": {
            "tags": []
          },
          "execution_count": 30
        }
      ]
    },
    {
      "cell_type": "code",
      "metadata": {
        "colab": {
          "base_uri": "https://localhost:8080/"
        },
        "id": "vxP9UBhBeoAh",
        "outputId": "7a00c5e1-e148-4075-df32-63f1bb4082b7"
      },
      "source": [
        "df.cod_serie.isna().sum()"
      ],
      "execution_count": 6,
      "outputs": [
        {
          "output_type": "execute_result",
          "data": {
            "text/plain": [
              "0"
            ]
          },
          "metadata": {
            "tags": []
          },
          "execution_count": 6
        }
      ]
    },
    {
      "cell_type": "code",
      "metadata": {
        "colab": {
          "base_uri": "https://localhost:8080/"
        },
        "id": "3FhXs1_nrG3q",
        "outputId": "639d8fd4-f0a4-4e34-bf45-9e61bd7dcadb"
      },
      "source": [
        "df.serie.isna().sum()"
      ],
      "execution_count": 8,
      "outputs": [
        {
          "output_type": "execute_result",
          "data": {
            "text/plain": [
              "0"
            ]
          },
          "metadata": {
            "tags": []
          },
          "execution_count": 8
        }
      ]
    },
    {
      "cell_type": "code",
      "metadata": {
        "colab": {
          "base_uri": "https://localhost:8080/"
        },
        "id": "z7m_rhBLnu9S",
        "outputId": "9cb879f2-3b77-49ce-b1a7-21b401f8d5af"
      },
      "source": [
        "df.cod_serie.unique()"
      ],
      "execution_count": 9,
      "outputs": [
        {
          "output_type": "execute_result",
          "data": {
            "text/plain": [
              "array([ 8,  9, 10, 11, 16, 17, 18, 19, 20, 21, 22, 23, 24, 25, 26, 27, 28,\n",
              "       29, 30, 31, 32, 33, 34, 35, 36, 42, 43, 44, 45, 46, 47, 48, 49, 50,\n",
              "       51, 53, 56, 57, 58, 59, 60, 83, 84])"
            ]
          },
          "metadata": {
            "tags": []
          },
          "execution_count": 9
        }
      ]
    },
    {
      "cell_type": "code",
      "metadata": {
        "colab": {
          "base_uri": "https://localhost:8080/",
          "height": 1000
        },
        "id": "PgHJCKJXnFs4",
        "outputId": "bd34e555-e194-4b7a-f0cd-106fa4660287"
      },
      "source": [
        "df[[\"cod_serie\", \"serie\", \"escola\"]].groupby('cod_serie', group_keys=False).apply(lambda df: df.sample(1))"
      ],
      "execution_count": 25,
      "outputs": [
        {
          "output_type": "execute_result",
          "data": {
            "text/html": [
              "<div>\n",
              "<style scoped>\n",
              "    .dataframe tbody tr th:only-of-type {\n",
              "        vertical-align: middle;\n",
              "    }\n",
              "\n",
              "    .dataframe tbody tr th {\n",
              "        vertical-align: top;\n",
              "    }\n",
              "\n",
              "    .dataframe thead th {\n",
              "        text-align: right;\n",
              "    }\n",
              "</style>\n",
              "<table border=\"1\" class=\"dataframe\">\n",
              "  <thead>\n",
              "    <tr style=\"text-align: right;\">\n",
              "      <th></th>\n",
              "      <th>cod_serie</th>\n",
              "      <th>serie</th>\n",
              "      <th>escola</th>\n",
              "    </tr>\n",
              "  </thead>\n",
              "  <tbody>\n",
              "    <tr>\n",
              "      <th>883984</th>\n",
              "      <td>8</td>\n",
              "      <td>6º Ano</td>\n",
              "      <td>CENTRO DE ENSINO FUNDAMENTAL 404 DE SAMAMBAIA</td>\n",
              "    </tr>\n",
              "    <tr>\n",
              "      <th>2518569</th>\n",
              "      <td>9</td>\n",
              "      <td>7º Ano</td>\n",
              "      <td>Centro de Ensino Fundamental 04 de Planaltina</td>\n",
              "    </tr>\n",
              "    <tr>\n",
              "      <th>4594837</th>\n",
              "      <td>10</td>\n",
              "      <td>8º Ano</td>\n",
              "      <td>CENTRO DE ENSINO FUNDAMENTAL 213 DE SANTA MARIA</td>\n",
              "    </tr>\n",
              "    <tr>\n",
              "      <th>6102217</th>\n",
              "      <td>11</td>\n",
              "      <td>9º Ano</td>\n",
              "      <td>CENTRO DE ENSINO FUNDAMENTAL 01 DO PARANOÁ</td>\n",
              "    </tr>\n",
              "    <tr>\n",
              "      <th>6848771</th>\n",
              "      <td>16</td>\n",
              "      <td>6º Ano</td>\n",
              "      <td>Centro de Ensino Fundamental 03 do Paranoá</td>\n",
              "    </tr>\n",
              "    <tr>\n",
              "      <th>6850879</th>\n",
              "      <td>17</td>\n",
              "      <td>7º Ano</td>\n",
              "      <td>Centro de Ensino Fundamental 03 do Paranoá</td>\n",
              "    </tr>\n",
              "    <tr>\n",
              "      <th>6857715</th>\n",
              "      <td>18</td>\n",
              "      <td>8º Ano</td>\n",
              "      <td>CENTRO EDUCACIONAL POMPÍLIO MARQUES DE SOUZA</td>\n",
              "    </tr>\n",
              "    <tr>\n",
              "      <th>6860396</th>\n",
              "      <td>19</td>\n",
              "      <td>9º Ano</td>\n",
              "      <td>Centro de Ensino Fundamental 03 do Paranoá</td>\n",
              "    </tr>\n",
              "    <tr>\n",
              "      <th>7453813</th>\n",
              "      <td>20</td>\n",
              "      <td>1ª Série</td>\n",
              "      <td>CENTRO DE ENSINO MÉDIO AVE BRANCA</td>\n",
              "    </tr>\n",
              "    <tr>\n",
              "      <th>9680535</th>\n",
              "      <td>21</td>\n",
              "      <td>2ª Série</td>\n",
              "      <td>Centro de Ensino Médio 10 de Ceilândia</td>\n",
              "    </tr>\n",
              "    <tr>\n",
              "      <th>10937280</th>\n",
              "      <td>22</td>\n",
              "      <td>3ª Série</td>\n",
              "      <td>Centro de Ensino Médio 02 de Ceilândia</td>\n",
              "    </tr>\n",
              "    <tr>\n",
              "      <th>11587993</th>\n",
              "      <td>23</td>\n",
              "      <td>1ª Série</td>\n",
              "      <td>CENTRO EDUCACIONAL CASA GRANDE</td>\n",
              "    </tr>\n",
              "    <tr>\n",
              "      <th>11823752</th>\n",
              "      <td>24</td>\n",
              "      <td>2ª Série</td>\n",
              "      <td>CENTRO EDUCACIONAL 01 DA ESTRUTURAL</td>\n",
              "    </tr>\n",
              "    <tr>\n",
              "      <th>11861024</th>\n",
              "      <td>25</td>\n",
              "      <td>3ª Série</td>\n",
              "      <td>CENTRO EDUCACIONAL GISNO</td>\n",
              "    </tr>\n",
              "    <tr>\n",
              "      <th>12010805</th>\n",
              "      <td>26</td>\n",
              "      <td>1º Ano</td>\n",
              "      <td>CAIC JÚLIA KUBITSCHEK DE OLIVEIRA</td>\n",
              "    </tr>\n",
              "    <tr>\n",
              "      <th>12164239</th>\n",
              "      <td>27</td>\n",
              "      <td>2º Ano</td>\n",
              "      <td>Escola Classe 02 do Riacho Fundo II</td>\n",
              "    </tr>\n",
              "    <tr>\n",
              "      <th>12301412</th>\n",
              "      <td>28</td>\n",
              "      <td>3º Ano</td>\n",
              "      <td>ESCOLA CLASSE 01 DO ARAPOANGA</td>\n",
              "    </tr>\n",
              "    <tr>\n",
              "      <th>12387044</th>\n",
              "      <td>29</td>\n",
              "      <td>4º Ano</td>\n",
              "      <td>CAIC SANTA PAULINA</td>\n",
              "    </tr>\n",
              "    <tr>\n",
              "      <th>12442262</th>\n",
              "      <td>30</td>\n",
              "      <td>5º Ano</td>\n",
              "      <td>ESCOLA CLASSE 15 DE SOBRADINHO</td>\n",
              "    </tr>\n",
              "    <tr>\n",
              "      <th>12556806</th>\n",
              "      <td>31</td>\n",
              "      <td>Berçário I</td>\n",
              "      <td>CENTRO DE EDUCAÇÃO INFANTIL 01 DE BRASÍLIA</td>\n",
              "    </tr>\n",
              "    <tr>\n",
              "      <th>12556881</th>\n",
              "      <td>32</td>\n",
              "      <td>Berçário II</td>\n",
              "      <td>CENTRO DE EDUCAÇÃO INFANTIL 01 DE BRASÍLIA</td>\n",
              "    </tr>\n",
              "    <tr>\n",
              "      <th>12557164</th>\n",
              "      <td>33</td>\n",
              "      <td>Maternal I</td>\n",
              "      <td>CAIC Professor  Benedito Carlos de Oliveira</td>\n",
              "    </tr>\n",
              "    <tr>\n",
              "      <th>12558987</th>\n",
              "      <td>34</td>\n",
              "      <td>Maternal II</td>\n",
              "      <td>Caic Carlos Castello Branco</td>\n",
              "    </tr>\n",
              "    <tr>\n",
              "      <th>12610281</th>\n",
              "      <td>35</td>\n",
              "      <td>1º Período</td>\n",
              "      <td>ESCOLA CLASSE VALE DO SOL</td>\n",
              "    </tr>\n",
              "    <tr>\n",
              "      <th>12649046</th>\n",
              "      <td>36</td>\n",
              "      <td>2º Período</td>\n",
              "      <td>JARDIM DE INFÂNCIA 302 NORTE</td>\n",
              "    </tr>\n",
              "    <tr>\n",
              "      <th>12730634</th>\n",
              "      <td>42</td>\n",
              "      <td>1º Período  Especial</td>\n",
              "      <td>Centro de Educação Infantil 01 de Brazlândia</td>\n",
              "    </tr>\n",
              "    <tr>\n",
              "      <th>12730869</th>\n",
              "      <td>43</td>\n",
              "      <td>2º Período Especial</td>\n",
              "      <td>Jardim de Infância 01 do Riacho Fundo II</td>\n",
              "    </tr>\n",
              "    <tr>\n",
              "      <th>12732522</th>\n",
              "      <td>44</td>\n",
              "      <td>1º Ano especial</td>\n",
              "      <td>ESCOLA CLASSE 410 SUL</td>\n",
              "    </tr>\n",
              "    <tr>\n",
              "      <th>12735051</th>\n",
              "      <td>45</td>\n",
              "      <td>2º Ano Especial</td>\n",
              "      <td>CENTRO DE ENSINO FUNDAMENTAL DO BOSQUE</td>\n",
              "    </tr>\n",
              "    <tr>\n",
              "      <th>12735625</th>\n",
              "      <td>46</td>\n",
              "      <td>3º Ano especial</td>\n",
              "      <td>CENTRO EDUCACIONAL 03 DE SOBRADINHO</td>\n",
              "    </tr>\n",
              "    <tr>\n",
              "      <th>12735937</th>\n",
              "      <td>47</td>\n",
              "      <td>4º Ano especial</td>\n",
              "      <td>ESCOLA CLASSE 64 DE CEILÂNDIA</td>\n",
              "    </tr>\n",
              "    <tr>\n",
              "      <th>12735976</th>\n",
              "      <td>48</td>\n",
              "      <td>5º Ano especial</td>\n",
              "      <td>CENTRO DE ENSINO FUNDAMENTAL GAN</td>\n",
              "    </tr>\n",
              "    <tr>\n",
              "      <th>12736288</th>\n",
              "      <td>49</td>\n",
              "      <td>6º Ano especial</td>\n",
              "      <td>Centro de Ensino Fundamental 07 de Ceilândia</td>\n",
              "    </tr>\n",
              "    <tr>\n",
              "      <th>12737123</th>\n",
              "      <td>50</td>\n",
              "      <td>7º Ano especial</td>\n",
              "      <td>CENTRO EDUCACIONAL 07 DE CEILÂNDIA</td>\n",
              "    </tr>\n",
              "    <tr>\n",
              "      <th>12737169</th>\n",
              "      <td>51</td>\n",
              "      <td>8º Ano especial</td>\n",
              "      <td>CENTRO EDUCACIONAL 03 DE SOBRADINHO</td>\n",
              "    </tr>\n",
              "    <tr>\n",
              "      <th>12737196</th>\n",
              "      <td>53</td>\n",
              "      <td>1ª Série EM Especial</td>\n",
              "      <td>CENTRO DE ENSINO MÉDIO 01 DE SÃO SEBASTIÃO</td>\n",
              "    </tr>\n",
              "    <tr>\n",
              "      <th>12737241</th>\n",
              "      <td>56</td>\n",
              "      <td>2º Ciclo - Bloco 1</td>\n",
              "      <td>CENTRO EDUCACIONAL SÃO BARTOLOMEU</td>\n",
              "    </tr>\n",
              "    <tr>\n",
              "      <th>12737404</th>\n",
              "      <td>57</td>\n",
              "      <td>2º Ciclo - Bloco 2</td>\n",
              "      <td>Centro Educacional Stella dos Cherubins Guimar...</td>\n",
              "    </tr>\n",
              "    <tr>\n",
              "      <th>12742413</th>\n",
              "      <td>58</td>\n",
              "      <td>3º Ciclo - Bloco 1</td>\n",
              "      <td>Centro Educacional Stella dos Cherubins Guimar...</td>\n",
              "    </tr>\n",
              "    <tr>\n",
              "      <th>12758330</th>\n",
              "      <td>59</td>\n",
              "      <td>3º Ciclo - Bloco 2</td>\n",
              "      <td>Centro Educacional Stella dos Cherubins Guimar...</td>\n",
              "    </tr>\n",
              "    <tr>\n",
              "      <th>12773340</th>\n",
              "      <td>60</td>\n",
              "      <td>Bloco Ensino Médio - 1ª série</td>\n",
              "      <td>CENTRO EDUCACIONAL SÃO BARTOLOMEU</td>\n",
              "    </tr>\n",
              "    <tr>\n",
              "      <th>12776008</th>\n",
              "      <td>83</td>\n",
              "      <td>Bloco Ensino Médio - 2ª série</td>\n",
              "      <td>CENTRO EDUCACIONAL 104 DO RECANTO DAS EMAS</td>\n",
              "    </tr>\n",
              "    <tr>\n",
              "      <th>12778465</th>\n",
              "      <td>84</td>\n",
              "      <td>Bloco Ensino Médio - 3ª série</td>\n",
              "      <td>CENTRO EDUCACIONAL 104 DO RECANTO DAS EMAS</td>\n",
              "    </tr>\n",
              "  </tbody>\n",
              "</table>\n",
              "</div>"
            ],
            "text/plain": [
              "          cod_serie  ...                                             escola\n",
              "883984            8  ...      CENTRO DE ENSINO FUNDAMENTAL 404 DE SAMAMBAIA\n",
              "2518569           9  ...      Centro de Ensino Fundamental 04 de Planaltina\n",
              "4594837          10  ...    CENTRO DE ENSINO FUNDAMENTAL 213 DE SANTA MARIA\n",
              "6102217          11  ...         CENTRO DE ENSINO FUNDAMENTAL 01 DO PARANOÁ\n",
              "6848771          16  ...         Centro de Ensino Fundamental 03 do Paranoá\n",
              "6850879          17  ...         Centro de Ensino Fundamental 03 do Paranoá\n",
              "6857715          18  ...       CENTRO EDUCACIONAL POMPÍLIO MARQUES DE SOUZA\n",
              "6860396          19  ...         Centro de Ensino Fundamental 03 do Paranoá\n",
              "7453813          20  ...                  CENTRO DE ENSINO MÉDIO AVE BRANCA\n",
              "9680535          21  ...             Centro de Ensino Médio 10 de Ceilândia\n",
              "10937280         22  ...             Centro de Ensino Médio 02 de Ceilândia\n",
              "11587993         23  ...                     CENTRO EDUCACIONAL CASA GRANDE\n",
              "11823752         24  ...                CENTRO EDUCACIONAL 01 DA ESTRUTURAL\n",
              "11861024         25  ...                           CENTRO EDUCACIONAL GISNO\n",
              "12010805         26  ...                  CAIC JÚLIA KUBITSCHEK DE OLIVEIRA\n",
              "12164239         27  ...                Escola Classe 02 do Riacho Fundo II\n",
              "12301412         28  ...                      ESCOLA CLASSE 01 DO ARAPOANGA\n",
              "12387044         29  ...                                 CAIC SANTA PAULINA\n",
              "12442262         30  ...                     ESCOLA CLASSE 15 DE SOBRADINHO\n",
              "12556806         31  ...         CENTRO DE EDUCAÇÃO INFANTIL 01 DE BRASÍLIA\n",
              "12556881         32  ...         CENTRO DE EDUCAÇÃO INFANTIL 01 DE BRASÍLIA\n",
              "12557164         33  ...        CAIC Professor  Benedito Carlos de Oliveira\n",
              "12558987         34  ...                        Caic Carlos Castello Branco\n",
              "12610281         35  ...                          ESCOLA CLASSE VALE DO SOL\n",
              "12649046         36  ...                       JARDIM DE INFÂNCIA 302 NORTE\n",
              "12730634         42  ...       Centro de Educação Infantil 01 de Brazlândia\n",
              "12730869         43  ...           Jardim de Infância 01 do Riacho Fundo II\n",
              "12732522         44  ...                              ESCOLA CLASSE 410 SUL\n",
              "12735051         45  ...             CENTRO DE ENSINO FUNDAMENTAL DO BOSQUE\n",
              "12735625         46  ...                CENTRO EDUCACIONAL 03 DE SOBRADINHO\n",
              "12735937         47  ...                      ESCOLA CLASSE 64 DE CEILÂNDIA\n",
              "12735976         48  ...                   CENTRO DE ENSINO FUNDAMENTAL GAN\n",
              "12736288         49  ...       Centro de Ensino Fundamental 07 de Ceilândia\n",
              "12737123         50  ...                 CENTRO EDUCACIONAL 07 DE CEILÂNDIA\n",
              "12737169         51  ...                CENTRO EDUCACIONAL 03 DE SOBRADINHO\n",
              "12737196         53  ...         CENTRO DE ENSINO MÉDIO 01 DE SÃO SEBASTIÃO\n",
              "12737241         56  ...                  CENTRO EDUCACIONAL SÃO BARTOLOMEU\n",
              "12737404         57  ...  Centro Educacional Stella dos Cherubins Guimar...\n",
              "12742413         58  ...  Centro Educacional Stella dos Cherubins Guimar...\n",
              "12758330         59  ...  Centro Educacional Stella dos Cherubins Guimar...\n",
              "12773340         60  ...                  CENTRO EDUCACIONAL SÃO BARTOLOMEU\n",
              "12776008         83  ...         CENTRO EDUCACIONAL 104 DO RECANTO DAS EMAS\n",
              "12778465         84  ...         CENTRO EDUCACIONAL 104 DO RECANTO DAS EMAS\n",
              "\n",
              "[43 rows x 3 columns]"
            ]
          },
          "metadata": {
            "tags": []
          },
          "execution_count": 25
        }
      ]
    },
    {
      "cell_type": "code",
      "metadata": {
        "id": "1btsUXj_sJQc"
      },
      "source": [
        "df_ensino_medio = df[df.cod_serie.isin([20, 21, 22, 23, 24, 25, 53, 58, 59, 60, 83, 84])]"
      ],
      "execution_count": 26,
      "outputs": []
    },
    {
      "cell_type": "code",
      "metadata": {
        "colab": {
          "base_uri": "https://localhost:8080/",
          "height": 35
        },
        "id": "sdH_VysxiJO8",
        "outputId": "3b033942-79e2-4aff-f978-fe7e025b67c6"
      },
      "source": [
        "f\"Alunos diferentes matriculados no ensino médio: {len(df_ensino_medio.cod_aluno.value_counts())}\""
      ],
      "execution_count": 71,
      "outputs": [
        {
          "output_type": "execute_result",
          "data": {
            "application/vnd.google.colaboratory.intrinsic+json": {
              "type": "string"
            },
            "text/plain": [
              "'Alunos diferentes matriculados no ensino médio: 82536'"
            ]
          },
          "metadata": {
            "tags": []
          },
          "execution_count": 71
        }
      ]
    },
    {
      "cell_type": "markdown",
      "metadata": {
        "id": "4jcdtKXsinQM"
      },
      "source": [
        "2. Levando em consideração somente os alunos do curso \"Ensino Médio\". Descreva a porcentagem de alunos que foram aprovados e reprovados (aluno aprovado é aquele que tirou 5 ou mais como nota final em todas as matérias cursadas) por série."
      ]
    },
    {
      "cell_type": "code",
      "metadata": {
        "colab": {
          "base_uri": "https://localhost:8080/"
        },
        "id": "-j3iRCeMzzia",
        "outputId": "be245d96-6ea1-4d75-8b4b-2b552cf27e7a"
      },
      "source": [
        "df_ensino_medio.bimestre.unique()"
      ],
      "execution_count": 62,
      "outputs": [
        {
          "output_type": "execute_result",
          "data": {
            "text/plain": [
              "array(['1', '2', '3', '4', 'resultado final'], dtype=object)"
            ]
          },
          "metadata": {
            "tags": []
          },
          "execution_count": 62
        }
      ]
    },
    {
      "cell_type": "code",
      "metadata": {
        "colab": {
          "base_uri": "https://localhost:8080/"
        },
        "id": "TM4j-eVm3eg6",
        "outputId": "5a78d8d6-e0f5-441d-de7f-9a475e445690"
      },
      "source": [
        "df_ensino_medio.bimestre.isna().sum()"
      ],
      "execution_count": 74,
      "outputs": [
        {
          "output_type": "execute_result",
          "data": {
            "text/plain": [
              "0"
            ]
          },
          "metadata": {
            "tags": []
          },
          "execution_count": 74
        }
      ]
    },
    {
      "cell_type": "code",
      "metadata": {
        "colab": {
          "base_uri": "https://localhost:8080/"
        },
        "id": "Ga2eYDJy3kLO",
        "outputId": "38168d8b-341d-4b0a-b441-4b84e1734b88"
      },
      "source": [
        "df_ensino_medio[df.bimestre == \"resultado final\"].nota_bimestral.isna().sum()"
      ],
      "execution_count": 78,
      "outputs": [
        {
          "output_type": "execute_result",
          "data": {
            "text/plain": [
              "0"
            ]
          },
          "metadata": {
            "tags": []
          },
          "execution_count": 78
        }
      ]
    },
    {
      "cell_type": "code",
      "metadata": {
        "id": "t4tmO1v5vHWa"
      },
      "source": [
        "def foi_aprovado(df):\n",
        "  return all(df[df.bimestre == \"resultado final\"].nota_bimestral >= 5.0)"
      ],
      "execution_count": 126,
      "outputs": []
    },
    {
      "cell_type": "code",
      "metadata": {
        "id": "eTwXxH7Wyb8C"
      },
      "source": [
        "aprovados_ensino_medio = df_ensino_medio.groupby(\"cod_aluno\", group_keys = False).apply(foi_aprovado)"
      ],
      "execution_count": 132,
      "outputs": []
    },
    {
      "cell_type": "code",
      "metadata": {
        "id": "fV9HmLiYFRCB"
      },
      "source": [
        "df_ensino_medio[\"aprovado\"] = df_ensino_medio.cod_aluno.map(lambda x: aprovados_ensino_medio[x])"
      ],
      "execution_count": 137,
      "outputs": []
    },
    {
      "cell_type": "code",
      "metadata": {
        "id": "xaHF2VIOHZCv"
      },
      "source": [
        "def percentual_aprovados_reprovados(df):\n",
        "  n = len(df)\n",
        "  n_aprovado = sum(df[\"aprovado\"])\n",
        "  percentual_aprovado = (n_aprovado / n) * 100\n",
        "  percentual_desaprovado = (abs(100.0 - percentual_aprovado)) \n",
        "  return f\"Aprovados: {round(percentual_aprovado, 2)}% | Reprovados {round(percentual_desaprovado, 2)}%\""
      ],
      "execution_count": 166,
      "outputs": []
    },
    {
      "cell_type": "code",
      "metadata": {
        "id": "yQN5yy0lGS8m",
        "outputId": "3a3ed81c-97a2-430c-d7bc-7b97c5ecfb63",
        "colab": {
          "base_uri": "https://localhost:8080/"
        }
      },
      "source": [
        "df_ensino_medio.drop_duplicates('cod_aluno').groupby(\"serie\", group_keys = False).apply(percentual_aprovados_reprovados)"
      ],
      "execution_count": 167,
      "outputs": [
        {
          "output_type": "execute_result",
          "data": {
            "text/plain": [
              "serie\n",
              "1ª Série                         Aprovados: 42.94% | Reprovados 57.06%\n",
              "1ª Série EM Especial               Aprovados: 100.0% | Reprovados 0.0%\n",
              "2ª Série                         Aprovados: 40.21% | Reprovados 59.79%\n",
              "3ª Série                         Aprovados: 48.27% | Reprovados 51.73%\n",
              "3º Ciclo - Bloco 1               Aprovados: 28.71% | Reprovados 71.29%\n",
              "3º Ciclo - Bloco 2               Aprovados: 48.41% | Reprovados 51.59%\n",
              "Bloco Ensino Médio - 1ª série    Aprovados: 66.67% | Reprovados 33.33%\n",
              "Bloco Ensino Médio - 2ª série    Aprovados: 81.67% | Reprovados 18.33%\n",
              "Bloco Ensino Médio - 3ª série    Aprovados: 73.33% | Reprovados 26.67%\n",
              "dtype: object"
            ]
          },
          "metadata": {
            "tags": []
          },
          "execution_count": 167
        }
      ]
    },
    {
      "cell_type": "code",
      "metadata": {
        "id": "AJg7JgYg-cGu",
        "outputId": "c02c03b1-92ee-45ab-a7d7-7e2f03a88a87",
        "colab": {
          "base_uri": "https://localhost:8080/"
        }
      },
      "source": [
        ""
      ],
      "execution_count": 127,
      "outputs": [
        {
          "output_type": "execute_result",
          "data": {
            "text/plain": [
              "cod_aluno\n",
              "-9222644519466710544    False\n",
              "-9222529196612115370     True\n",
              "-9222315045875238055     True\n",
              "-9221925063589591595    False\n",
              "-9221882012413132674     True\n",
              "                        ...  \n",
              " 9221396502265603763    False\n",
              " 9221552084735750989     True\n",
              " 9221709859008778696     True\n",
              " 9222955310115100993    False\n",
              " 9223293934285108139    False\n",
              "Length: 82536, dtype: bool"
            ]
          },
          "metadata": {
            "tags": []
          },
          "execution_count": 127
        }
      ]
    },
    {
      "cell_type": "code",
      "metadata": {
        "colab": {
          "base_uri": "https://localhost:8080/"
        },
        "id": "6X1lAsu6zcT3",
        "outputId": "3683bc8c-6e93-49a2-fa50-60bb4d353382"
      },
      "source": [
        ""
      ],
      "execution_count": 47,
      "outputs": [
        {
          "output_type": "execute_result",
          "data": {
            "text/plain": [
              "array(['1', '2', '3', '4', 'resultado final'], dtype=object)"
            ]
          },
          "metadata": {
            "tags": []
          },
          "execution_count": 47
        }
      ]
    }
  ]
}