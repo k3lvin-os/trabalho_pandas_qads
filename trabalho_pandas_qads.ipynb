{
  "nbformat": 4,
  "nbformat_minor": 0,
  "metadata": {
    "colab": {
      "name": "trabalho_pandas_qads.ipynb",
      "provenance": [],
      "toc_visible": true,
      "include_colab_link": true
    },
    "kernelspec": {
      "name": "python3",
      "display_name": "Python 3"
    },
    "language_info": {
      "name": "python"
    }
  },
  "cells": [
    {
      "cell_type": "markdown",
      "metadata": {
        "id": "view-in-github",
        "colab_type": "text"
      },
      "source": [
        "<a href=\"https://colab.research.google.com/github/kelvingamedev/trabalho_pandas_qads/blob/main/trabalho_pandas_qads.ipynb\" target=\"_parent\"><img src=\"https://colab.research.google.com/assets/colab-badge.svg\" alt=\"Open In Colab\"/></a>"
      ]
    },
    {
      "cell_type": "markdown",
      "metadata": {
        "id": "pF7h8QBle5cm"
      },
      "source": [
        "# Lista Pandas - Desempenho dos Alunos GDF\n",
        "\n",
        "O dataset analisado aqui descreve o desempenho dos alunos da rede pública do Distrito Federal. Nele encontramos as notas bimestrais de todas as matérias oferecidas a cada aluno do GDF, juntamente com informações básicas sobre a escola, o curso e a série do aluno. A fonte dos dados é o portal de dados abertos do GDF.\n",
        "\n",
        "Utilize o dataset para responder as questões abaixo. Coloque sua solução somente dentro do espaço delimitado para a resposta e não altere nenhum outro código disponibilizado. As bibliotecas para a resolução de todos os problemas já foram importadas na célula abaixo.\n",
        "\n",
        "Obs.: Caso alguma delas não esteja instalada no seu ambiente execute o processo de instalção através de !pip install <nome_da_biblioteca>\n",
        "\n"
      ]
    },
    {
      "cell_type": "code",
      "metadata": {
        "id": "5-BrkHKofAOb"
      },
      "source": [
        "import pandas as pd\n",
        "import matplotlib.pyplot as plt\n",
        "import numpy as np\n",
        "\n",
        "import requests as r\n",
        "from zipfile import ZipFile\n",
        "import io\n",
        "\n",
        "import warnings\n",
        "warnings.filterwarnings('ignore')"
      ],
      "execution_count": 1,
      "outputs": []
    },
    {
      "cell_type": "code",
      "metadata": {
        "id": "67KwEsYkfFkO"
      },
      "source": [
        "def get_data(rows=None,download=True) -> pd.core.frame.DataFrame:\n",
        "    \n",
        "    \"\"\" get_data(rows: int=None, download: bool=True) -> pandas.core.frame.DataFrame:\n",
        "        \n",
        "        - Retorna os dados para serem utilizados na resolução da lista. \n",
        "        - Utilize o parâmetro 'download' caso você já possua os dados na sua pasta de trabalho.\n",
        "        \n",
        "        \n",
        "        ** Parâmetros **\n",
        "        ________________\n",
        "        \n",
        "        rows : quantidade de linhas a serem lidas no dataset, padrão é None e representa todo o dataset.\n",
        "        download : define se a função executará o processo de download e extração dos dados, padrão True.\n",
        "        \n",
        "        ** Exemplos **\n",
        "        ________________\n",
        "        \n",
        "        >> df = get_data(rows=100)\n",
        "        >> df.shape\n",
        "        >> (100,23)\n",
        "        \n",
        "        \n",
        "        >> df = get_data(rows=578)\n",
        "        >> df.shape\n",
        "        >> (578,23)\n",
        "        \n",
        "    \"\"\"\n",
        "    \n",
        "    if download == True:\n",
        "            \n",
        "        file_zipped = r.get('http://dados.df.gov.br/dataset/b8436049-44e7-4224-95b4-224718a4b166/resource/3e654a9d-0647-4e39-930e-7cd07faec888/download/dados-abertos---desempenho-escolar20180515160111.zip')  \n",
        "        z = ZipFile(io.BytesIO(file_zipped.content))\n",
        "        z.extractall('.')\n",
        "    \n",
        "    return pd.read_csv('dados abertos - desempenho escolar_20180515_160111.csv',sep=';',encoding='latin-1',nrows=rows)"
      ],
      "execution_count": 2,
      "outputs": []
    },
    {
      "cell_type": "code",
      "metadata": {
        "id": "r-0hTqIlfFiI"
      },
      "source": [
        "df = get_data()"
      ],
      "execution_count": 3,
      "outputs": []
    },
    {
      "cell_type": "markdown",
      "metadata": {
        "id": "zYUQ0yJ3xlbn"
      },
      "source": [
        "1. Quantos alunos diferentes estão matriculados no curso \"Ensino Médio\"?"
      ]
    },
    {
      "cell_type": "markdown",
      "metadata": {
        "id": "D_rVN6qy3_0r"
      },
      "source": [
        "Primeiro, devemos observar a estrutura do dataframe"
      ]
    },
    {
      "cell_type": "code",
      "metadata": {
        "colab": {
          "base_uri": "https://localhost:8080/",
          "height": 148
        },
        "id": "OhFmg8savfMj",
        "outputId": "2dd871a4-11ad-4cc2-f3ad-7d91e53a2acf"
      },
      "source": [
        "df.head(1)"
      ],
      "execution_count": 4,
      "outputs": [
        {
          "output_type": "execute_result",
          "data": {
            "text/html": [
              "<div>\n",
              "<style scoped>\n",
              "    .dataframe tbody tr th:only-of-type {\n",
              "        vertical-align: middle;\n",
              "    }\n",
              "\n",
              "    .dataframe tbody tr th {\n",
              "        vertical-align: top;\n",
              "    }\n",
              "\n",
              "    .dataframe thead th {\n",
              "        text-align: right;\n",
              "    }\n",
              "</style>\n",
              "<table border=\"1\" class=\"dataframe\">\n",
              "  <thead>\n",
              "    <tr style=\"text-align: right;\">\n",
              "      <th></th>\n",
              "      <th>cod_coordenacao_regional</th>\n",
              "      <th>coordenacao_regional</th>\n",
              "      <th>cod_escola</th>\n",
              "      <th>escola</th>\n",
              "      <th>cod_curso</th>\n",
              "      <th>curso</th>\n",
              "      <th>cod_serie</th>\n",
              "      <th>serie</th>\n",
              "      <th>cod_turno</th>\n",
              "      <th>turno</th>\n",
              "      <th>cod_turma</th>\n",
              "      <th>turma</th>\n",
              "      <th>cod_aluno</th>\n",
              "      <th>bimestre</th>\n",
              "      <th>cod_disciplina</th>\n",
              "      <th>disciplina</th>\n",
              "      <th>nota_bimestral</th>\n",
              "      <th>aulas_bimestre</th>\n",
              "      <th>faltas_bimestre</th>\n",
              "      <th>faltas_justificadas_bimestre</th>\n",
              "      <th>aulas_globalizadas</th>\n",
              "      <th>faltas_globalizadas</th>\n",
              "      <th>faltas_justificadas_globalizadas</th>\n",
              "    </tr>\n",
              "  </thead>\n",
              "  <tbody>\n",
              "    <tr>\n",
              "      <th>0</th>\n",
              "      <td>3</td>\n",
              "      <td>CRE - Plano Piloto</td>\n",
              "      <td>1</td>\n",
              "      <td>CENTRO DE ENSINO FUNDAMENTAL POLIVALENTE</td>\n",
              "      <td>5</td>\n",
              "      <td>Ensino Fundamental de 9 Anos</td>\n",
              "      <td>8</td>\n",
              "      <td>6º Ano</td>\n",
              "      <td>5</td>\n",
              "      <td>Diurno</td>\n",
              "      <td>100329.0</td>\n",
              "      <td>6º ANO B</td>\n",
              "      <td>-8376490126953895597</td>\n",
              "      <td>1</td>\n",
              "      <td>22</td>\n",
              "      <td>Projeto Interdisciplinar I</td>\n",
              "      <td>9.0</td>\n",
              "      <td>10.0</td>\n",
              "      <td>0.0</td>\n",
              "      <td>0.0</td>\n",
              "      <td>NaN</td>\n",
              "      <td>NaN</td>\n",
              "      <td>NaN</td>\n",
              "    </tr>\n",
              "  </tbody>\n",
              "</table>\n",
              "</div>"
            ],
            "text/plain": [
              "   cod_coordenacao_regional  ... faltas_justificadas_globalizadas\n",
              "0                         3  ...                              NaN\n",
              "\n",
              "[1 rows x 23 columns]"
            ]
          },
          "metadata": {
            "tags": []
          },
          "execution_count": 4
        }
      ]
    },
    {
      "cell_type": "markdown",
      "metadata": {
        "id": "FmzrvKFI4HVT"
      },
      "source": [
        "Em seguida, é importante se atentar a possíveis valores ausentes"
      ]
    },
    {
      "cell_type": "code",
      "metadata": {
        "colab": {
          "base_uri": "https://localhost:8080/"
        },
        "id": "YddrjtXeoQZ-",
        "outputId": "78b83198-2180-479f-b6b5-5aa89b4dc7ed"
      },
      "source": [
        "df.isna().sum()[df.isna().sum() != 0]"
      ],
      "execution_count": 5,
      "outputs": [
        {
          "output_type": "execute_result",
          "data": {
            "text/plain": [
              "cod_turma                                896\n",
              "turma                                    896\n",
              "nota_bimestral                        788999\n",
              "aulas_bimestre                       3423972\n",
              "faltas_bimestre                      3423972\n",
              "faltas_justificadas_bimestre         4274032\n",
              "aulas_globalizadas                  11991797\n",
              "faltas_globalizadas                 11990519\n",
              "faltas_justificadas_globalizadas    11991797\n",
              "dtype: int64"
            ]
          },
          "metadata": {
            "tags": []
          },
          "execution_count": 5
        }
      ]
    },
    {
      "cell_type": "markdown",
      "metadata": {
        "id": "zXFXVduF4R8q"
      },
      "source": [
        "Com base nas perguntas e nas colunas com valores pendentes, a maior preocupção é em decorrência da falta de notas afetar nossas análises. Número de faltas, quantidade de aulas e turmas não serão solicitados"
      ]
    },
    {
      "cell_type": "markdown",
      "metadata": {
        "id": "m2ZTrW1e4pk0"
      },
      "source": [
        "Voltando a pergunta 1, devemos verificar quais séries são referentes ao ensino médio"
      ]
    },
    {
      "cell_type": "code",
      "metadata": {
        "colab": {
          "base_uri": "https://localhost:8080/",
          "height": 1000
        },
        "id": "PgHJCKJXnFs4",
        "outputId": "6c0c97af-93bc-4738-9b35-40bb0da2e805"
      },
      "source": [
        "df[[\"cod_serie\", \"serie\", \"escola\"]].groupby('cod_serie', group_keys=False).apply(lambda df: df.sample(1))"
      ],
      "execution_count": 6,
      "outputs": [
        {
          "output_type": "execute_result",
          "data": {
            "text/html": [
              "<div>\n",
              "<style scoped>\n",
              "    .dataframe tbody tr th:only-of-type {\n",
              "        vertical-align: middle;\n",
              "    }\n",
              "\n",
              "    .dataframe tbody tr th {\n",
              "        vertical-align: top;\n",
              "    }\n",
              "\n",
              "    .dataframe thead th {\n",
              "        text-align: right;\n",
              "    }\n",
              "</style>\n",
              "<table border=\"1\" class=\"dataframe\">\n",
              "  <thead>\n",
              "    <tr style=\"text-align: right;\">\n",
              "      <th></th>\n",
              "      <th>cod_serie</th>\n",
              "      <th>serie</th>\n",
              "      <th>escola</th>\n",
              "    </tr>\n",
              "  </thead>\n",
              "  <tbody>\n",
              "    <tr>\n",
              "      <th>1242117</th>\n",
              "      <td>8</td>\n",
              "      <td>6º Ano</td>\n",
              "      <td>CENTRO DE ENSINO FUNDAMENTAL 802 DO RECANTO DA...</td>\n",
              "    </tr>\n",
              "    <tr>\n",
              "      <th>2534665</th>\n",
              "      <td>9</td>\n",
              "      <td>7º Ano</td>\n",
              "      <td>CENTRO DE ENSINO FUNDAMENTAL PIPIRIPAU II</td>\n",
              "    </tr>\n",
              "    <tr>\n",
              "      <th>4763735</th>\n",
              "      <td>10</td>\n",
              "      <td>8º Ano</td>\n",
              "      <td>CENTRO DE ENSINO FUNDAMENTAL 802 DO RECANTO DA...</td>\n",
              "    </tr>\n",
              "    <tr>\n",
              "      <th>6079331</th>\n",
              "      <td>11</td>\n",
              "      <td>9º Ano</td>\n",
              "      <td>CENTRO DE ENSINO FUNDAMENTAL 504 DE SAMAMBAIA</td>\n",
              "    </tr>\n",
              "    <tr>\n",
              "      <th>6849058</th>\n",
              "      <td>16</td>\n",
              "      <td>6º Ano</td>\n",
              "      <td>Centro de Ensino Fundamental 03 do Paranoá</td>\n",
              "    </tr>\n",
              "    <tr>\n",
              "      <th>6851176</th>\n",
              "      <td>17</td>\n",
              "      <td>7º Ano</td>\n",
              "      <td>Centro de Ensino Fundamental 03 do Paranoá</td>\n",
              "    </tr>\n",
              "    <tr>\n",
              "      <th>6857265</th>\n",
              "      <td>18</td>\n",
              "      <td>8º Ano</td>\n",
              "      <td>CENTRO EDUCACIONAL POMPÍLIO MARQUES DE SOUZA</td>\n",
              "    </tr>\n",
              "    <tr>\n",
              "      <th>6863888</th>\n",
              "      <td>19</td>\n",
              "      <td>9º Ano</td>\n",
              "      <td>CENTRO EDUCACIONAL POMPÍLIO MARQUES DE SOUZA</td>\n",
              "    </tr>\n",
              "    <tr>\n",
              "      <th>7973545</th>\n",
              "      <td>20</td>\n",
              "      <td>1ª Série</td>\n",
              "      <td>Centro Educacional 01 do Guará</td>\n",
              "    </tr>\n",
              "    <tr>\n",
              "      <th>9594382</th>\n",
              "      <td>21</td>\n",
              "      <td>2ª Série</td>\n",
              "      <td>CENTRO DE ENSINO MÉDIO 03 DE CEILÂNDIA</td>\n",
              "    </tr>\n",
              "    <tr>\n",
              "      <th>10390499</th>\n",
              "      <td>22</td>\n",
              "      <td>3ª Série</td>\n",
              "      <td>CENTRO EDUCACIONAL 15 DE CEILÂNDIA</td>\n",
              "    </tr>\n",
              "    <tr>\n",
              "      <th>11596861</th>\n",
              "      <td>23</td>\n",
              "      <td>1ª Série</td>\n",
              "      <td>CENTRO EDUCACIONAL DO LAGO NORTE</td>\n",
              "    </tr>\n",
              "    <tr>\n",
              "      <th>11778013</th>\n",
              "      <td>24</td>\n",
              "      <td>2ª Série</td>\n",
              "      <td>CENTRO DE ENSINO MÉDIO 01 DO PARANOÁ</td>\n",
              "    </tr>\n",
              "    <tr>\n",
              "      <th>11850711</th>\n",
              "      <td>25</td>\n",
              "      <td>3ª Série</td>\n",
              "      <td>CENTRO EDUCACIONAL DARCY RIBEIRO</td>\n",
              "    </tr>\n",
              "    <tr>\n",
              "      <th>12033528</th>\n",
              "      <td>26</td>\n",
              "      <td>1º Ano</td>\n",
              "      <td>ESCOLA CLASSE 303 DE SAMAMBAIA</td>\n",
              "    </tr>\n",
              "    <tr>\n",
              "      <th>12118321</th>\n",
              "      <td>27</td>\n",
              "      <td>2º Ano</td>\n",
              "      <td>ESCOLA CLASSE 05 DO GUARÁ</td>\n",
              "    </tr>\n",
              "    <tr>\n",
              "      <th>12295708</th>\n",
              "      <td>28</td>\n",
              "      <td>3º Ano</td>\n",
              "      <td>ESCOLA CLASSE BELA VISTA</td>\n",
              "    </tr>\n",
              "    <tr>\n",
              "      <th>12360789</th>\n",
              "      <td>29</td>\n",
              "      <td>4º Ano</td>\n",
              "      <td>ESCOLA CLASSE 13 DE CEILÂNDIA</td>\n",
              "    </tr>\n",
              "    <tr>\n",
              "      <th>12533204</th>\n",
              "      <td>30</td>\n",
              "      <td>5º Ano</td>\n",
              "      <td>ESCOLA CLASSE 512 DE SAMAMBAIA</td>\n",
              "    </tr>\n",
              "    <tr>\n",
              "      <th>12556800</th>\n",
              "      <td>31</td>\n",
              "      <td>Berçário I</td>\n",
              "      <td>CENTRO DE EDUCAÇÃO INFANTIL 01 DE BRASÍLIA</td>\n",
              "    </tr>\n",
              "    <tr>\n",
              "      <th>12556946</th>\n",
              "      <td>32</td>\n",
              "      <td>Berçário II</td>\n",
              "      <td>CENTRO DE EDUCAÇÃO INFANTIL 01 DE BRASÍLIA</td>\n",
              "    </tr>\n",
              "    <tr>\n",
              "      <th>12557417</th>\n",
              "      <td>33</td>\n",
              "      <td>Maternal I</td>\n",
              "      <td>Caic Carlos Castello Branco</td>\n",
              "    </tr>\n",
              "    <tr>\n",
              "      <th>12558947</th>\n",
              "      <td>34</td>\n",
              "      <td>Maternal II</td>\n",
              "      <td>Caic Carlos Castello Branco</td>\n",
              "    </tr>\n",
              "    <tr>\n",
              "      <th>12587492</th>\n",
              "      <td>35</td>\n",
              "      <td>1º Período</td>\n",
              "      <td>ESCOLA CLASSE 35 DE CEILÂNDIA</td>\n",
              "    </tr>\n",
              "    <tr>\n",
              "      <th>12702208</th>\n",
              "      <td>36</td>\n",
              "      <td>2º Período</td>\n",
              "      <td>CAIC UNESCO</td>\n",
              "    </tr>\n",
              "    <tr>\n",
              "      <th>12730410</th>\n",
              "      <td>42</td>\n",
              "      <td>1º Período  Especial</td>\n",
              "      <td>CENTRO DE EDUCAÇÃO INFANTIL 210 DE SANTA MARIA</td>\n",
              "    </tr>\n",
              "    <tr>\n",
              "      <th>12730901</th>\n",
              "      <td>43</td>\n",
              "      <td>2º Período Especial</td>\n",
              "      <td>Centro de Educação Infantil 01 de Ceilândia</td>\n",
              "    </tr>\n",
              "    <tr>\n",
              "      <th>12733291</th>\n",
              "      <td>44</td>\n",
              "      <td>1º Ano especial</td>\n",
              "      <td>ESCOLA CLASSE 39 DE CEILÂNDIA</td>\n",
              "    </tr>\n",
              "    <tr>\n",
              "      <th>12735238</th>\n",
              "      <td>45</td>\n",
              "      <td>2º Ano Especial</td>\n",
              "      <td>ESCOLA CLASSE 04 DO PARANOÁ</td>\n",
              "    </tr>\n",
              "    <tr>\n",
              "      <th>12735718</th>\n",
              "      <td>46</td>\n",
              "      <td>3º Ano especial</td>\n",
              "      <td>CENTRO EDUCACIONAL 04 DE SOBRADINHO</td>\n",
              "    </tr>\n",
              "    <tr>\n",
              "      <th>12735936</th>\n",
              "      <td>47</td>\n",
              "      <td>4º Ano especial</td>\n",
              "      <td>ESCOLA CLASSE 64 DE CEILÂNDIA</td>\n",
              "    </tr>\n",
              "    <tr>\n",
              "      <th>12736202</th>\n",
              "      <td>48</td>\n",
              "      <td>5º Ano especial</td>\n",
              "      <td>CENTRO EDUCACIONAL 02 DE SOBRADINHO</td>\n",
              "    </tr>\n",
              "    <tr>\n",
              "      <th>12736674</th>\n",
              "      <td>49</td>\n",
              "      <td>6º Ano especial</td>\n",
              "      <td>CENTRO DE ENSINO FUNDAMENTAL 12 DE TAGUATINGA</td>\n",
              "    </tr>\n",
              "    <tr>\n",
              "      <th>12737137</th>\n",
              "      <td>50</td>\n",
              "      <td>7º Ano especial</td>\n",
              "      <td>CENTRO EDUCACIONAL 07 DE CEILÂNDIA</td>\n",
              "    </tr>\n",
              "    <tr>\n",
              "      <th>12737162</th>\n",
              "      <td>51</td>\n",
              "      <td>8º Ano especial</td>\n",
              "      <td>CENTRO EDUCACIONAL 05 DE TAGUATINGA</td>\n",
              "    </tr>\n",
              "    <tr>\n",
              "      <th>12737174</th>\n",
              "      <td>53</td>\n",
              "      <td>1ª Série EM Especial</td>\n",
              "      <td>CENTRO DE ENSINO MÉDIO 01 DE SÃO SEBASTIÃO</td>\n",
              "    </tr>\n",
              "    <tr>\n",
              "      <th>12737280</th>\n",
              "      <td>56</td>\n",
              "      <td>2º Ciclo - Bloco 1</td>\n",
              "      <td>CENTRO EDUCACIONAL 310 DE SANTA MARIA</td>\n",
              "    </tr>\n",
              "    <tr>\n",
              "      <th>12737430</th>\n",
              "      <td>57</td>\n",
              "      <td>2º Ciclo - Bloco 2</td>\n",
              "      <td>CENTRO EDUCACIONAL SÃO BARTOLOMEU</td>\n",
              "    </tr>\n",
              "    <tr>\n",
              "      <th>12741664</th>\n",
              "      <td>58</td>\n",
              "      <td>3º Ciclo - Bloco 1</td>\n",
              "      <td>Centro Educacional Stella dos Cherubins Guimar...</td>\n",
              "    </tr>\n",
              "    <tr>\n",
              "      <th>12754608</th>\n",
              "      <td>59</td>\n",
              "      <td>3º Ciclo - Bloco 2</td>\n",
              "      <td>CENTRO EDUCACIONAL 104 DO RECANTO DAS EMAS</td>\n",
              "    </tr>\n",
              "    <tr>\n",
              "      <th>12773431</th>\n",
              "      <td>60</td>\n",
              "      <td>Bloco Ensino Médio - 1ª série</td>\n",
              "      <td>CENTRO EDUCACIONAL SÃO BARTOLOMEU</td>\n",
              "    </tr>\n",
              "    <tr>\n",
              "      <th>12777997</th>\n",
              "      <td>83</td>\n",
              "      <td>Bloco Ensino Médio - 2ª série</td>\n",
              "      <td>CENTRO EDUCACIONAL SÃO BARTOLOMEU</td>\n",
              "    </tr>\n",
              "    <tr>\n",
              "      <th>12778894</th>\n",
              "      <td>84</td>\n",
              "      <td>Bloco Ensino Médio - 3ª série</td>\n",
              "      <td>CENTRO EDUCACIONAL 310 DE SANTA MARIA</td>\n",
              "    </tr>\n",
              "  </tbody>\n",
              "</table>\n",
              "</div>"
            ],
            "text/plain": [
              "          cod_serie  ...                                             escola\n",
              "1242117           8  ...  CENTRO DE ENSINO FUNDAMENTAL 802 DO RECANTO DA...\n",
              "2534665           9  ...          CENTRO DE ENSINO FUNDAMENTAL PIPIRIPAU II\n",
              "4763735          10  ...  CENTRO DE ENSINO FUNDAMENTAL 802 DO RECANTO DA...\n",
              "6079331          11  ...      CENTRO DE ENSINO FUNDAMENTAL 504 DE SAMAMBAIA\n",
              "6849058          16  ...         Centro de Ensino Fundamental 03 do Paranoá\n",
              "6851176          17  ...         Centro de Ensino Fundamental 03 do Paranoá\n",
              "6857265          18  ...       CENTRO EDUCACIONAL POMPÍLIO MARQUES DE SOUZA\n",
              "6863888          19  ...       CENTRO EDUCACIONAL POMPÍLIO MARQUES DE SOUZA\n",
              "7973545          20  ...                     Centro Educacional 01 do Guará\n",
              "9594382          21  ...             CENTRO DE ENSINO MÉDIO 03 DE CEILÂNDIA\n",
              "10390499         22  ...                 CENTRO EDUCACIONAL 15 DE CEILÂNDIA\n",
              "11596861         23  ...                   CENTRO EDUCACIONAL DO LAGO NORTE\n",
              "11778013         24  ...               CENTRO DE ENSINO MÉDIO 01 DO PARANOÁ\n",
              "11850711         25  ...                   CENTRO EDUCACIONAL DARCY RIBEIRO\n",
              "12033528         26  ...                     ESCOLA CLASSE 303 DE SAMAMBAIA\n",
              "12118321         27  ...                          ESCOLA CLASSE 05 DO GUARÁ\n",
              "12295708         28  ...                           ESCOLA CLASSE BELA VISTA\n",
              "12360789         29  ...                      ESCOLA CLASSE 13 DE CEILÂNDIA\n",
              "12533204         30  ...                     ESCOLA CLASSE 512 DE SAMAMBAIA\n",
              "12556800         31  ...         CENTRO DE EDUCAÇÃO INFANTIL 01 DE BRASÍLIA\n",
              "12556946         32  ...         CENTRO DE EDUCAÇÃO INFANTIL 01 DE BRASÍLIA\n",
              "12557417         33  ...                        Caic Carlos Castello Branco\n",
              "12558947         34  ...                        Caic Carlos Castello Branco\n",
              "12587492         35  ...                      ESCOLA CLASSE 35 DE CEILÂNDIA\n",
              "12702208         36  ...                                        CAIC UNESCO\n",
              "12730410         42  ...     CENTRO DE EDUCAÇÃO INFANTIL 210 DE SANTA MARIA\n",
              "12730901         43  ...        Centro de Educação Infantil 01 de Ceilândia\n",
              "12733291         44  ...                      ESCOLA CLASSE 39 DE CEILÂNDIA\n",
              "12735238         45  ...                        ESCOLA CLASSE 04 DO PARANOÁ\n",
              "12735718         46  ...                CENTRO EDUCACIONAL 04 DE SOBRADINHO\n",
              "12735936         47  ...                      ESCOLA CLASSE 64 DE CEILÂNDIA\n",
              "12736202         48  ...                CENTRO EDUCACIONAL 02 DE SOBRADINHO\n",
              "12736674         49  ...      CENTRO DE ENSINO FUNDAMENTAL 12 DE TAGUATINGA\n",
              "12737137         50  ...                 CENTRO EDUCACIONAL 07 DE CEILÂNDIA\n",
              "12737162         51  ...                CENTRO EDUCACIONAL 05 DE TAGUATINGA\n",
              "12737174         53  ...         CENTRO DE ENSINO MÉDIO 01 DE SÃO SEBASTIÃO\n",
              "12737280         56  ...              CENTRO EDUCACIONAL 310 DE SANTA MARIA\n",
              "12737430         57  ...                  CENTRO EDUCACIONAL SÃO BARTOLOMEU\n",
              "12741664         58  ...  Centro Educacional Stella dos Cherubins Guimar...\n",
              "12754608         59  ...         CENTRO EDUCACIONAL 104 DO RECANTO DAS EMAS\n",
              "12773431         60  ...                  CENTRO EDUCACIONAL SÃO BARTOLOMEU\n",
              "12777997         83  ...                  CENTRO EDUCACIONAL SÃO BARTOLOMEU\n",
              "12778894         84  ...              CENTRO EDUCACIONAL 310 DE SANTA MARIA\n",
              "\n",
              "[43 rows x 3 columns]"
            ]
          },
          "metadata": {
            "tags": []
          },
          "execution_count": 6
        }
      ]
    },
    {
      "cell_type": "markdown",
      "metadata": {
        "id": "AirR5mTq44o1"
      },
      "source": [
        "Claramente, sexto ano ao nono ano são referentes ao ensino fundamental. Em seguida, vem alguns códigos do ensino médio.Depois, temos algumas séries referentes ao fundamental. Mais alguns códigos referentes a pré-escola. Depois ensino especial, isso com uma ressalva de uma série do ensino especial no ensino médio (incluso, portanto). Depois, pegamos apenas os códigos referentes ao terceiro ciclo, que é o ensino médio, além dos \"Bloco Ensino Médio\""
      ]
    },
    {
      "cell_type": "markdown",
      "metadata": {
        "id": "fcOPNZMl6Wij"
      },
      "source": [
        "De posse desses indices, filtramos apenas os códigos de séries pertinentes "
      ]
    },
    {
      "cell_type": "code",
      "metadata": {
        "id": "1btsUXj_sJQc"
      },
      "source": [
        "df_ensino_medio = df[df.cod_serie.isin([20, 21, 22, 23, 24, 25, 53, 58, 59, 60, 83, 84])]"
      ],
      "execution_count": 7,
      "outputs": []
    },
    {
      "cell_type": "markdown",
      "metadata": {
        "id": "KyRN0x4g6dyM"
      },
      "source": [
        "Calculamos quantos alunos estão matriculados no ensino médio considerando apenas códigos de identificação únicos, já que é um dataset com notas e códigos repetidos "
      ]
    },
    {
      "cell_type": "code",
      "metadata": {
        "colab": {
          "base_uri": "https://localhost:8080/"
        },
        "id": "sdH_VysxiJO8",
        "outputId": "2e4f9dd9-5932-4816-8f59-8595bdf6c6ca"
      },
      "source": [
        "df_ensino_medio.cod_aluno.nunique()"
      ],
      "execution_count": 8,
      "outputs": [
        {
          "output_type": "execute_result",
          "data": {
            "text/plain": [
              "82536"
            ]
          },
          "metadata": {
            "tags": []
          },
          "execution_count": 8
        }
      ]
    },
    {
      "cell_type": "markdown",
      "metadata": {
        "id": "FK8OZ5Z46xwC"
      },
      "source": [
        "82536 alunos estão matriculados no ensino médio do DF."
      ]
    },
    {
      "cell_type": "markdown",
      "metadata": {
        "id": "4jcdtKXsinQM"
      },
      "source": [
        "2. Levando em consideração somente os alunos do curso \"Ensino Médio\". Descreva a porcentagem de alunos que foram aprovados e reprovados (aluno aprovado é aquele que tirou 5 ou mais como nota final em todas as matérias cursadas) por série."
      ]
    },
    {
      "cell_type": "markdown",
      "metadata": {
        "id": "tWFOAUwi7Kjz"
      },
      "source": [
        "Principal questão para resolução dessa ponto é se devemos calcular a nota final ou já temos posse do valor no dataset"
      ]
    },
    {
      "cell_type": "code",
      "metadata": {
        "colab": {
          "base_uri": "https://localhost:8080/"
        },
        "id": "-j3iRCeMzzia",
        "outputId": "b15e99d9-32d3-41b6-d4e9-aebbf7421775"
      },
      "source": [
        "df_ensino_medio.bimestre.unique()"
      ],
      "execution_count": 9,
      "outputs": [
        {
          "output_type": "execute_result",
          "data": {
            "text/plain": [
              "array(['1', '2', '3', '4', 'resultado final'], dtype=object)"
            ]
          },
          "metadata": {
            "tags": []
          },
          "execution_count": 9
        }
      ]
    },
    {
      "cell_type": "markdown",
      "metadata": {
        "id": "ODirRZJA7b05"
      },
      "source": [
        "Sabendo que temos a nota de resultado final, não iremos calcular através de resultados parciais"
      ]
    },
    {
      "cell_type": "markdown",
      "metadata": {
        "id": "nZ4uicdG7qYC"
      },
      "source": [
        "Vamos criar uma função para decidir se as notas de resultado final são superiores ou iguais a um valor x"
      ]
    },
    {
      "cell_type": "code",
      "metadata": {
        "id": "t4tmO1v5vHWa"
      },
      "source": [
        "def notas_acima(df, parametro):\n",
        "  return all(df[df.bimestre == \"resultado final\"].nota_bimestral >= parametro)"
      ],
      "execution_count": 10,
      "outputs": []
    },
    {
      "cell_type": "markdown",
      "metadata": {
        "id": "2seCnG7R7z3a"
      },
      "source": [
        "Depois, fazer um agrupamento das notas do aluno e cálculo se ele reprovou ou não"
      ]
    },
    {
      "cell_type": "code",
      "metadata": {
        "id": "eTwXxH7Wyb8C"
      },
      "source": [
        "aprovados_ensino_medio = df_ensino_medio.groupby(\"cod_aluno\", group_keys = False).apply(lambda x: notas_acima(x, 5.0))"
      ],
      "execution_count": 11,
      "outputs": []
    },
    {
      "cell_type": "markdown",
      "metadata": {
        "id": "m6wtSxEC7_Sa"
      },
      "source": [
        "Então, mesclamos a informação da aprovação com o dataframe do ensino médio"
      ]
    },
    {
      "cell_type": "code",
      "metadata": {
        "id": "fV9HmLiYFRCB"
      },
      "source": [
        "df_ensino_medio[\"aprovado\"] = df_ensino_medio.cod_aluno.map(lambda x: aprovados_ensino_medio[x])"
      ],
      "execution_count": 12,
      "outputs": []
    },
    {
      "cell_type": "markdown",
      "metadata": {
        "id": "JjjaTJZM8H36"
      },
      "source": [
        "Para facilitar, também vamos definir uma função que calcule o percentual de alunos que atendem ou não uma regra X, que é definido com base no resultado booleano já salvo no dataframe"
      ]
    },
    {
      "cell_type": "code",
      "metadata": {
        "id": "xaHF2VIOHZCv"
      },
      "source": [
        "def percentual(df, regras):\n",
        "  n = len(df)\n",
        "  n_aprovado = sum(df[regras[0]])\n",
        "  percentual_aprovado = (n_aprovado / n) * 100\n",
        "  percentual_desaprovado = (abs(100.0 - percentual_aprovado)) \n",
        "  return f\"{regras[0].capitalize()}: {round(percentual_aprovado, 2)}% | {regras[1].capitalize()} {round(percentual_desaprovado, 2)}%\""
      ],
      "execution_count": 13,
      "outputs": []
    },
    {
      "cell_type": "markdown",
      "metadata": {
        "id": "jPb-3ScB8cVB"
      },
      "source": [
        "Desconsiderando notas repetidas, para pegar apenas o aluno e sua aprovação, realizamos o agrupamento e exibição do resultado"
      ]
    },
    {
      "cell_type": "code",
      "metadata": {
        "colab": {
          "base_uri": "https://localhost:8080/"
        },
        "id": "yQN5yy0lGS8m",
        "outputId": "76d6da59-c5e1-4ba7-a2a7-eeb53ed0115e"
      },
      "source": [
        "df_ensino_medio.drop_duplicates('cod_aluno').groupby(\"serie\", group_keys = False).apply(lambda x: percentual(x, [\"aprovado\", \"reprovado\"]))"
      ],
      "execution_count": 14,
      "outputs": [
        {
          "output_type": "execute_result",
          "data": {
            "text/plain": [
              "serie\n",
              "1ª Série                         Aprovado: 42.94% | Reprovado 57.06%\n",
              "1ª Série EM Especial               Aprovado: 100.0% | Reprovado 0.0%\n",
              "2ª Série                         Aprovado: 40.21% | Reprovado 59.79%\n",
              "3ª Série                         Aprovado: 48.27% | Reprovado 51.73%\n",
              "3º Ciclo - Bloco 1               Aprovado: 28.71% | Reprovado 71.29%\n",
              "3º Ciclo - Bloco 2               Aprovado: 48.41% | Reprovado 51.59%\n",
              "Bloco Ensino Médio - 1ª série    Aprovado: 66.67% | Reprovado 33.33%\n",
              "Bloco Ensino Médio - 2ª série    Aprovado: 81.67% | Reprovado 18.33%\n",
              "Bloco Ensino Médio - 3ª série    Aprovado: 73.33% | Reprovado 26.67%\n",
              "dtype: object"
            ]
          },
          "metadata": {
            "tags": []
          },
          "execution_count": 14
        }
      ]
    },
    {
      "cell_type": "markdown",
      "metadata": {
        "id": "bmFdekov8_CK"
      },
      "source": [
        "3. As coordenações regionais são instituições que cuidam das escolas públicas de uma determinada região. Busque dados populacionais de cada coordenação regional e demonstre se há alguma correlação entra a quantidade de alunos de cada coordenação e a população daquela cidade satélite."
      ]
    },
    {
      "cell_type": "markdown",
      "metadata": {
        "id": "SqcbQjjt8n1y"
      },
      "source": [
        "Foi encontrada uma tabela com regiões administrativas no DF no Wikipedia"
      ]
    },
    {
      "cell_type": "code",
      "metadata": {
        "id": "aL7k4oWH8_jZ"
      },
      "source": [
        "populacao_por_regiao_df = pd.read_html ('https://pt.wikipedia.org/wiki/Lista_de_regi%C3%B5es_administrativas_do_Distrito_Federal_por_popula%C3%A7%C3%A3o', index_col = 1)[0].drop(\"Posição\",axis=1)"
      ],
      "execution_count": 15,
      "outputs": []
    },
    {
      "cell_type": "markdown",
      "metadata": {
        "id": "1guU6V__8t47"
      },
      "source": [
        "Sabendo que no dataframe, as CRE (coordenações regionais estudantis) constam com um prefixo desnecessário, iremos definir uma função para retira-lo."
      ]
    },
    {
      "cell_type": "code",
      "metadata": {
        "id": "6mrvPGBIrCAe"
      },
      "source": [
        "def remove_cre(string):\n",
        "  return string.replace(\"CRE - \", \"\")"
      ],
      "execution_count": 16,
      "outputs": []
    },
    {
      "cell_type": "markdown",
      "metadata": {
        "id": "ONBbRYWN9CSL"
      },
      "source": [
        "E aplicar aos dataframes do ensino médio e todos alunos do DF."
      ]
    },
    {
      "cell_type": "code",
      "metadata": {
        "id": "AJg7JgYg-cGu"
      },
      "source": [
        "df.coordenacao_regional = df.coordenacao_regional.apply(remove_cre)\n",
        "df_ensino_medio.coordenacao_regional = df_ensino_medio.coordenacao_regional.apply(remove_cre)"
      ],
      "execution_count": 17,
      "outputs": []
    },
    {
      "cell_type": "markdown",
      "metadata": {
        "id": "JSGpVW5y9Ghr"
      },
      "source": [
        "Vamos contar a quantidade de alunos por CRE"
      ]
    },
    {
      "cell_type": "code",
      "metadata": {
        "id": "LKn__S9qDwDK"
      },
      "source": [
        "quantidade_de_alunos_cre = df[[\"coordenacao_regional\", \"cod_aluno\"]].groupby(\"coordenacao_regional\", group_keys=False)[\"cod_aluno\"].nunique()"
      ],
      "execution_count": 20,
      "outputs": []
    },
    {
      "cell_type": "markdown",
      "metadata": {
        "id": "pxBuYZyiCZxa"
      },
      "source": [
        "E transformar em um dataframe com nomes de colunas apropriados"
      ]
    },
    {
      "cell_type": "code",
      "metadata": {
        "id": "IgvsbWO1BE8S"
      },
      "source": [
        "regioes_df = quantidade_de_alunos_cre.to_frame().rename(columns = {\"cod_aluno\": \"quantidade_de_alunos\"}).reset_index()"
      ],
      "execution_count": 21,
      "outputs": []
    },
    {
      "cell_type": "markdown",
      "metadata": {
        "id": "ZJgwpqcFCoNB"
      },
      "source": [
        "A função abaixo serve para transformar a string de populção em um valor inteiro"
      ]
    },
    {
      "cell_type": "code",
      "metadata": {
        "id": "vXjt2ap3ahWn"
      },
      "source": [
        "def get_int(a_string):\n",
        "  return (int) (\"\".join([word for word in a_string.split() if word.isdigit()]))"
      ],
      "execution_count": 22,
      "outputs": []
    },
    {
      "cell_type": "markdown",
      "metadata": {
        "id": "v60HtOqlCwvB"
      },
      "source": [
        "Aplicamos a função"
      ]
    },
    {
      "cell_type": "code",
      "metadata": {
        "id": "6X1lAsu6zcT3"
      },
      "source": [
        "regioes_df[\"populacao\"] = regioes_df.coordenacao_regional.apply(lambda x: get_int(populacao_por_regiao_df.loc[x, \"População\"]))"
      ],
      "execution_count": 23,
      "outputs": []
    },
    {
      "cell_type": "markdown",
      "metadata": {
        "id": "auhQXYHBC0hx"
      },
      "source": [
        "E mostramos a correlação"
      ]
    },
    {
      "cell_type": "code",
      "metadata": {
        "colab": {
          "base_uri": "https://localhost:8080/",
          "height": 110
        },
        "id": "wKSj9vsvVNC9",
        "outputId": "60175ab8-6f9c-41d3-d759-b3226f8ad221"
      },
      "source": [
        "regioes_df.corr()"
      ],
      "execution_count": 24,
      "outputs": [
        {
          "output_type": "execute_result",
          "data": {
            "text/html": [
              "<div>\n",
              "<style scoped>\n",
              "    .dataframe tbody tr th:only-of-type {\n",
              "        vertical-align: middle;\n",
              "    }\n",
              "\n",
              "    .dataframe tbody tr th {\n",
              "        vertical-align: top;\n",
              "    }\n",
              "\n",
              "    .dataframe thead th {\n",
              "        text-align: right;\n",
              "    }\n",
              "</style>\n",
              "<table border=\"1\" class=\"dataframe\">\n",
              "  <thead>\n",
              "    <tr style=\"text-align: right;\">\n",
              "      <th></th>\n",
              "      <th>quantidade_de_alunos</th>\n",
              "      <th>populacao</th>\n",
              "    </tr>\n",
              "  </thead>\n",
              "  <tbody>\n",
              "    <tr>\n",
              "      <th>quantidade_de_alunos</th>\n",
              "      <td>1.00000</td>\n",
              "      <td>0.93772</td>\n",
              "    </tr>\n",
              "    <tr>\n",
              "      <th>populacao</th>\n",
              "      <td>0.93772</td>\n",
              "      <td>1.00000</td>\n",
              "    </tr>\n",
              "  </tbody>\n",
              "</table>\n",
              "</div>"
            ],
            "text/plain": [
              "                      quantidade_de_alunos  populacao\n",
              "quantidade_de_alunos               1.00000    0.93772\n",
              "populacao                          0.93772    1.00000"
            ]
          },
          "metadata": {
            "tags": []
          },
          "execution_count": 24
        }
      ]
    },
    {
      "cell_type": "markdown",
      "metadata": {
        "id": "Nk-7Fz0SeeHQ"
      },
      "source": [
        "0.93 é uma correlação muito forte, sendo assim, quanto maior o número de alunos de uma determinada região, maior é a população daquela região. Isso, entretanto, não é suficiente para dizer uma coisa causa a outra"
      ]
    },
    {
      "cell_type": "markdown",
      "metadata": {
        "id": "NoRo7LAagvjl"
      },
      "source": [
        "4. Levando em consideração somente os alunos do curso \"Ensino Médio\". Demonstre a porcentagem de alunos que obtiveram notas finais maiores ou iguais a 8 em Química, Física e Biologia, por coordenação Regional."
      ]
    },
    {
      "cell_type": "markdown",
      "metadata": {
        "id": "vWPDTVNqC8vp"
      },
      "source": [
        "Vamos chamar de \"Critério 1\" o booleano que confirma o atendimento a regra de nota superior a 8 para as disciplinas informadas"
      ]
    },
    {
      "cell_type": "code",
      "metadata": {
        "id": "l4R2sX8Bhj6A"
      },
      "source": [
        "criterio1 = df_ensino_medio[df.disciplina.str.contains(\"Química|Física|Biologia\")].groupby(\"cod_aluno\", group_keys = False).apply(lambda x: notas_acima(x, 8.0))"
      ],
      "execution_count": 25,
      "outputs": []
    },
    {
      "cell_type": "markdown",
      "metadata": {
        "id": "_7xRzxR3DIls"
      },
      "source": [
        "Importante notar que nem todos alunos do ensino médio possuem registros dessas disciplinas."
      ]
    },
    {
      "cell_type": "code",
      "metadata": {
        "colab": {
          "base_uri": "https://localhost:8080/"
        },
        "id": "X8MA7GCHkU7L",
        "outputId": "187ab3c8-74a0-49f0-ac13-96adf1f27191"
      },
      "source": [
        "len(criterio1) != df_ensino_medio.cod_aluno.nunique()"
      ],
      "execution_count": 26,
      "outputs": [
        {
          "output_type": "execute_result",
          "data": {
            "text/plain": [
              "True"
            ]
          },
          "metadata": {
            "tags": []
          },
          "execution_count": 26
        }
      ]
    },
    {
      "cell_type": "markdown",
      "metadata": {
        "id": "RZ2KvgU7DRTJ"
      },
      "source": [
        "Sendo assim, quando o registro não existir, vamos considerar que não atende ao critério. Caso contrário, pegamos o valor do critério já contabilizado"
      ]
    },
    {
      "cell_type": "code",
      "metadata": {
        "id": "8lqqamYXjlb5"
      },
      "source": [
        "df_ensino_medio[\"criterio1\"] = df_ensino_medio.cod_aluno.map(lambda x: criterio1[x] if criterio1.get(x) != None else False)"
      ],
      "execution_count": 27,
      "outputs": []
    },
    {
      "cell_type": "markdown",
      "metadata": {
        "id": "RO9wvlVsDeBJ"
      },
      "source": [
        "Novamente, pegamos códigos únicos de alunos e calculamos o percentual dos que atendem ou não a regra"
      ]
    },
    {
      "cell_type": "code",
      "metadata": {
        "colab": {
          "base_uri": "https://localhost:8080/"
        },
        "id": "bNUjw4YKecVs",
        "outputId": "6f57cbe5-0a4b-4c68-e726-63b1f119cc7b"
      },
      "source": [
        "df_ensino_medio.drop_duplicates('cod_aluno').groupby(\"coordenacao_regional\", group_keys = False).apply(lambda x: percentual(x, [\"criterio1\", \"!criterio1\"]))"
      ],
      "execution_count": 28,
      "outputs": [
        {
          "output_type": "execute_result",
          "data": {
            "text/plain": [
              "coordenacao_regional\n",
              "Brazlândia            Criterio1: 14.65% | !criterio1 85.35%\n",
              "Ceilândia             Criterio1: 18.08% | !criterio1 81.92%\n",
              "Gama                  Criterio1: 14.14% | !criterio1 85.86%\n",
              "Guará                 Criterio1: 21.89% | !criterio1 78.11%\n",
              "Núcleo Bandeirante    Criterio1: 21.03% | !criterio1 78.97%\n",
              "Paranoá               Criterio1: 21.08% | !criterio1 78.92%\n",
              "Planaltina            Criterio1: 13.72% | !criterio1 86.28%\n",
              "Plano Piloto          Criterio1: 13.52% | !criterio1 86.48%\n",
              "Recanto das Emas      Criterio1: 20.22% | !criterio1 79.78%\n",
              "Samambaia             Criterio1: 20.64% | !criterio1 79.36%\n",
              "Santa Maria           Criterio1: 18.59% | !criterio1 81.41%\n",
              "Sobradinho              Criterio1: 16.5% | !criterio1 83.5%\n",
              "São Sebastião         Criterio1: 19.62% | !criterio1 80.38%\n",
              "Taguatinga            Criterio1: 15.64% | !criterio1 84.36%\n",
              "dtype: object"
            ]
          },
          "metadata": {
            "tags": []
          },
          "execution_count": 28
        }
      ]
    },
    {
      "cell_type": "markdown",
      "metadata": {
        "id": "jQ9F2WUJsJKE"
      },
      "source": [
        "5. Qual coordenação regional tem a maior quantidade de alunos matriculados no turno diurno do curso \"Ensino Médio\".Considere somente as coordenações regionais que possuem um número acima da média de aprovados."
      ]
    },
    {
      "cell_type": "markdown",
      "metadata": {
        "id": "8q3Qh4S5Drua"
      },
      "source": [
        "Primeiro, contabilizamos a média de aprovados do ensino médio"
      ]
    },
    {
      "cell_type": "code",
      "metadata": {
        "colab": {
          "base_uri": "https://localhost:8080/"
        },
        "id": "eiqsbLjUsJka",
        "outputId": "e63d404a-e069-45e8-826f-e840cc837c06"
      },
      "source": [
        "media_aprovados = round(df_ensino_medio.drop_duplicates('cod_aluno').groupby(\"coordenacao_regional\").aprovado.sum().mean(), 2)\n",
        "media_aprovados"
      ],
      "execution_count": 29,
      "outputs": [
        {
          "output_type": "execute_result",
          "data": {
            "text/plain": [
              "2565.07"
            ]
          },
          "metadata": {
            "tags": []
          },
          "execution_count": 29
        }
      ]
    },
    {
      "cell_type": "markdown",
      "metadata": {
        "id": "ANinUhv6D1Eq"
      },
      "source": [
        "Armazenamos os índices dos CREs que são superiores a média  "
      ]
    },
    {
      "cell_type": "code",
      "metadata": {
        "id": "UAHdNhyasIF-"
      },
      "source": [
        "cres_acima_media = df_ensino_medio.drop_duplicates('cod_aluno').groupby(\"coordenacao_regional\").aprovado.sum() > media_aprovados"
      ],
      "execution_count": 30,
      "outputs": []
    },
    {
      "cell_type": "markdown",
      "metadata": {
        "id": "RKpGu4tSEAZ9"
      },
      "source": [
        "Por fim, contabilizamos dos CREs, qual do período diurno possui maior número de aprovados, que é a Ceilândia"
      ]
    },
    {
      "cell_type": "code",
      "metadata": {
        "colab": {
          "base_uri": "https://localhost:8080/"
        },
        "id": "utXj8xXm0Dn6",
        "outputId": "2663e3f2-3ba3-424b-afa4-b855e1079d65"
      },
      "source": [
        "df_ensino_medio[df.turno == \"Diurno\"].drop_duplicates('cod_aluno').groupby(\"coordenacao_regional\").aprovado.sum()[cres_acima_media].sort_values().tail(1)"
      ],
      "execution_count": 31,
      "outputs": [
        {
          "output_type": "execute_result",
          "data": {
            "text/plain": [
              "coordenacao_regional\n",
              "Ceilândia    4906\n",
              "Name: aprovado, dtype: int64"
            ]
          },
          "metadata": {
            "tags": []
          },
          "execution_count": 31
        }
      ]
    },
    {
      "cell_type": "markdown",
      "metadata": {
        "id": "XldRCZ2I2KRG"
      },
      "source": [
        "6. Considerando somente alunos do curso \"Ensino Médio\". Os alunos do turno diurno perfomam melhor que os alunos do turno noturno nas matérias de química, física e biologia. (Verdadeiro ou Falso, demonstre com dados).\n"
      ]
    },
    {
      "cell_type": "markdown",
      "metadata": {
        "id": "UJk8fV_0ETxx"
      },
      "source": [
        "Para responder a pergunta, só precisamos somar aqueles que atendem ao critério solicitado no período diurno"
      ]
    },
    {
      "cell_type": "code",
      "metadata": {
        "colab": {
          "base_uri": "https://localhost:8080/"
        },
        "id": "-gokjtcA2KuU",
        "outputId": "80ac0b2b-f621-455c-9b4f-acde9af09080"
      },
      "source": [
        "criterio1_periodo_diruno = df_ensino_medio[df.turno == \"Diurno\"].drop_duplicates('cod_aluno')[[\"criterio1\"]].sum()\n",
        "criterio1_periodo_diruno"
      ],
      "execution_count": 32,
      "outputs": [
        {
          "output_type": "execute_result",
          "data": {
            "text/plain": [
              "criterio1    10497\n",
              "dtype: int64"
            ]
          },
          "metadata": {
            "tags": []
          },
          "execution_count": 32
        }
      ]
    },
    {
      "cell_type": "markdown",
      "metadata": {
        "id": "a68MjX8FEeAx"
      },
      "source": [
        "No período noturno"
      ]
    },
    {
      "cell_type": "code",
      "metadata": {
        "colab": {
          "base_uri": "https://localhost:8080/"
        },
        "id": "TQw11GJr3U4w",
        "outputId": "96250cb8-92fa-491d-8498-dcf8a99b76b1"
      },
      "source": [
        "criterio1_periodo_noturno = df_ensino_medio[df.turno == \"Noturno\"].drop_duplicates('cod_aluno')[[\"criterio1\"]].sum()\n",
        "criterio1_periodo_noturno"
      ],
      "execution_count": 33,
      "outputs": [
        {
          "output_type": "execute_result",
          "data": {
            "text/plain": [
              "criterio1    3855\n",
              "dtype: int64"
            ]
          },
          "metadata": {
            "tags": []
          },
          "execution_count": 33
        }
      ]
    },
    {
      "cell_type": "markdown",
      "metadata": {
        "id": "q0nrgm4PEgvi"
      },
      "source": [
        "E comparar"
      ]
    },
    {
      "cell_type": "code",
      "metadata": {
        "colab": {
          "base_uri": "https://localhost:8080/"
        },
        "id": "5k7O3h_13Z-0",
        "outputId": "4223f7d2-0ab3-4957-ccfe-d7bd5f25408d"
      },
      "source": [
        "criterio1_periodo_diruno > criterio1_periodo_noturno"
      ],
      "execution_count": 34,
      "outputs": [
        {
          "output_type": "execute_result",
          "data": {
            "text/plain": [
              "criterio1    True\n",
              "dtype: bool"
            ]
          },
          "metadata": {
            "tags": []
          },
          "execution_count": 34
        }
      ]
    },
    {
      "cell_type": "markdown",
      "metadata": {
        "id": "5fF5fb163iGG"
      },
      "source": [
        "Verdadeiro, os alunos do período diurno performam melhor nas matérias Química, Física e Biologia do que os alunos do período noturno."
      ]
    }
  ]
}